{
 "cells": [
  {
   "cell_type": "code",
   "execution_count": 4,
   "metadata": {},
   "outputs": [
    {
     "name": "stderr",
     "output_type": "stream",
     "text": [
      "/home/rlew/anaconda3/envs/rapids-0.17/lib/python3.8/site-packages/sklearn/utils/deprecation.py:143: FutureWarning: The sklearn.feature_extraction.stop_words module is  deprecated in version 0.22 and will be removed in version 0.24. The corresponding classes / functions should instead be imported from sklearn.feature_extraction.text. Anything that cannot be imported from sklearn.feature_extraction.text is now part of the private API.\n",
      "  warnings.warn(message, FutureWarning)\n"
     ]
    }
   ],
   "source": [
    "import re\n",
    "import string\n",
    "import os\n",
    "import pickle\n",
    "import spacy\n",
    "spacy.prefer_gpu()\n",
    "\n",
    "import pandas as pd\n",
    "import numpy as np\n",
    "\n",
    "from tqdm.notebook import tqdm\n",
    "\n",
    "from sklearn.feature_extraction import text\n",
    "from sklearn.feature_extraction.text import CountVectorizer,TfidfVectorizer\n",
    "from sklearn.decomposition import LatentDirichletAllocation\n",
    "from sklearn.feature_extraction.stop_words import ENGLISH_STOP_WORDS"
   ]
  },
  {
   "cell_type": "code",
   "execution_count": 5,
   "metadata": {},
   "outputs": [],
   "source": [
    "# creating a list of the ciks we're interested in\n",
    "f = open(\"final_ciks.txt\", \"r\")\n",
    "ciks = f.read().strip('[]').split(', ')\n",
    "for cik in ciks:\n",
    "    cik = str(cik).strip(\"'\")\n",
    "f.close()"
   ]
  },
  {
   "cell_type": "code",
   "execution_count": 6,
   "metadata": {},
   "outputs": [
    {
     "data": {
      "text/plain": [
       "[\"'1209028'\",\n",
       " \"'1069183'\",\n",
       " \"'825313'\",\n",
       " \"'1144980'\",\n",
       " \"'1800'\",\n",
       " \"'935036'\",\n",
       " \"'1113232'\",\n",
       " \"'796343'\",\n",
       " \"'7084'\",\n",
       " \"'1101215'\"]"
      ]
     },
     "execution_count": 6,
     "metadata": {},
     "output_type": "execute_result"
    }
   ],
   "source": [
    "ciks[:10]"
   ]
  },
  {
   "cell_type": "markdown",
   "metadata": {},
   "source": [
    "## Testing the workflow on a small subset of the texts"
   ]
  },
  {
   "cell_type": "code",
   "execution_count": 6,
   "metadata": {},
   "outputs": [
    {
     "data": {
      "application/vnd.jupyter.widget-view+json": {
       "model_id": "d23e37e53fee4648864863aa835c337c",
       "version_major": 2,
       "version_minor": 0
      },
      "text/plain": [
       "HBox(children=(HTML(value=''), FloatProgress(value=0.0, max=303.0), HTML(value='')))"
      ]
     },
     "metadata": {},
     "output_type": "display_data"
    },
    {
     "name": "stdout",
     "output_type": "stream",
     "text": [
      "\n"
     ]
    }
   ],
   "source": [
    "merged_cik_texts = []\n",
    "for ind, cik in enumerate(tqdm(ciks)):\n",
    "    # score_path = 'final_10ks/' + cik.strip(\"'\") + '/rawtext/' + cik.strip(\"'\") + '_sim_scores.csv'\n",
    "    text_path = 'final_10ks/' + cik.strip(\"'\") + '/merged_texts.p'\n",
    "    with open(text_path, \"rb\" ) as f:\n",
    "        cik_texts = pickle.load(f)\n",
    "        merged_cik_texts += cik_texts\n",
    "print(f'The total number of documents is: {len(merged_cik_texts)}')"
   ]
  },
  {
   "cell_type": "code",
   "execution_count": 11,
   "metadata": {},
   "outputs": [
    {
     "name": "stdout",
     "output_type": "stream",
     "text": [
      " 10-K 1 d10k.htm FORM 10-K  Form 10-K Table of Contents     UNITED STATES  SECURITIES AND EXCHANGE COMMISSION  Washington, D.C. 20549      FORM 10-K      (Mark One)    x ANNUAL REPORT PURSUANT TO SECTION 13 OR 15(d) OF THE SECURITIES EXCHANGE ACT OF 1934  For the fiscal year ended December 31, 2010  OR       ̈ TRANSITION REPORT PURSUANT TO SECTION 13 OR 15(d) OF THE SECURITIES EXCHANGE ACT OF 1934\n"
     ]
    }
   ],
   "source": [
    "print(merged_cik_texts[0][:400])"
   ]
  },
  {
   "cell_type": "code",
   "execution_count": 23,
   "metadata": {},
   "outputs": [
    {
     "data": {
      "application/vnd.jupyter.widget-view+json": {
       "model_id": "3c5773628ea04fa99eaa011e974a793c",
       "version_major": 2,
       "version_minor": 0
      },
      "text/plain": [
       "HBox(children=(HTML(value=''), FloatProgress(value=0.0, max=3.0), HTML(value='')))"
      ]
     },
     "metadata": {},
     "output_type": "display_data"
    },
    {
     "name": "stdout",
     "output_type": "stream",
     "text": [
      "\n",
      "dkhtm united states washington dc mark one x pursuant to section or d of the securities exchange act of for the fiscal year ended december or ̈ transition report pursuant to section or d of the securities exchange act of for the transition period from to commission file number arlington asset investment corp exact name of registrant as specified in its charter virginia state or other jurisdiction \n"
     ]
    }
   ],
   "source": [
    "newtext = []\n",
    "for entry in tqdm(merged_cik_texts[:3]):\n",
    "    # getting rid of the terms seperately uses less memory\n",
    "    entry = entry.replace('Form 10-K','')\n",
    "    entry = entry.replace('FORM 10-K','')\n",
    "    entry = entry.replace('10-K','')\n",
    "    entry = re.sub(r'\\d+', '', entry)#remove numbers\n",
    "    entry = \"\".join([char.lower() for char in entry if char not in string.punctuation])\n",
    "    #^^remove punctuation and make lowercase\n",
    "    entry = entry.replace('table of contents','')\n",
    "    entry = entry.replace('securities and exchange commission','')\n",
    "    entry = entry.replace('annual report','')\n",
    "    entry = entry.replace('real estate','realestate')\n",
    "    entry = entry.replace('mayyet','')\n",
    "    entry = \"\".join([char for char in entry if not char.isdigit()])\n",
    "    #^^remove numbers\n",
    "    entry = entry.replace('million','')\n",
    "    entry = re.sub('\\s+', ' ', entry).strip() #remove doublespaces\n",
    "    newtext.append(entry)\n",
    "print(newtext[0][:400])"
   ]
  },
  {
   "cell_type": "code",
   "execution_count": 24,
   "metadata": {},
   "outputs": [
    {
     "data": {
      "text/html": [
       "<div>\n",
       "<style scoped>\n",
       "    .dataframe tbody tr th:only-of-type {\n",
       "        vertical-align: middle;\n",
       "    }\n",
       "\n",
       "    .dataframe tbody tr th {\n",
       "        vertical-align: top;\n",
       "    }\n",
       "\n",
       "    .dataframe thead th {\n",
       "        text-align: right;\n",
       "    }\n",
       "</style>\n",
       "<table border=\"1\" class=\"dataframe\">\n",
       "  <thead>\n",
       "    <tr style=\"text-align: right;\">\n",
       "      <th></th>\n",
       "      <th>aa</th>\n",
       "      <th>aaa</th>\n",
       "      <th>aaaaa</th>\n",
       "      <th>aaarated</th>\n",
       "      <th>aada</th>\n",
       "      <th>aaic</th>\n",
       "      <th>aamount</th>\n",
       "      <th>ab</th>\n",
       "      <th>abilities</th>\n",
       "      <th>ability</th>\n",
       "      <th>...</th>\n",
       "      <th>yeartoyear</th>\n",
       "      <th>yes</th>\n",
       "      <th>yetpurchased</th>\n",
       "      <th>yield</th>\n",
       "      <th>yieldcost</th>\n",
       "      <th>yields</th>\n",
       "      <th>york</th>\n",
       "      <th>yorkbased</th>\n",
       "      <th>zero</th>\n",
       "      <th>zip</th>\n",
       "    </tr>\n",
       "  </thead>\n",
       "  <tbody>\n",
       "    <tr>\n",
       "      <th>0</th>\n",
       "      <td>0</td>\n",
       "      <td>6</td>\n",
       "      <td>0</td>\n",
       "      <td>2</td>\n",
       "      <td>2</td>\n",
       "      <td>3</td>\n",
       "      <td>3</td>\n",
       "      <td>1</td>\n",
       "      <td>1</td>\n",
       "      <td>57</td>\n",
       "      <td>...</td>\n",
       "      <td>0</td>\n",
       "      <td>5</td>\n",
       "      <td>0</td>\n",
       "      <td>22</td>\n",
       "      <td>2</td>\n",
       "      <td>7</td>\n",
       "      <td>4</td>\n",
       "      <td>0</td>\n",
       "      <td>1</td>\n",
       "      <td>1</td>\n",
       "    </tr>\n",
       "    <tr>\n",
       "      <th>1</th>\n",
       "      <td>2</td>\n",
       "      <td>7</td>\n",
       "      <td>0</td>\n",
       "      <td>1</td>\n",
       "      <td>2</td>\n",
       "      <td>3</td>\n",
       "      <td>0</td>\n",
       "      <td>0</td>\n",
       "      <td>1</td>\n",
       "      <td>70</td>\n",
       "      <td>...</td>\n",
       "      <td>0</td>\n",
       "      <td>5</td>\n",
       "      <td>0</td>\n",
       "      <td>37</td>\n",
       "      <td>0</td>\n",
       "      <td>7</td>\n",
       "      <td>8</td>\n",
       "      <td>0</td>\n",
       "      <td>1</td>\n",
       "      <td>1</td>\n",
       "    </tr>\n",
       "    <tr>\n",
       "      <th>2</th>\n",
       "      <td>0</td>\n",
       "      <td>7</td>\n",
       "      <td>1</td>\n",
       "      <td>2</td>\n",
       "      <td>2</td>\n",
       "      <td>0</td>\n",
       "      <td>2</td>\n",
       "      <td>1</td>\n",
       "      <td>3</td>\n",
       "      <td>75</td>\n",
       "      <td>...</td>\n",
       "      <td>1</td>\n",
       "      <td>4</td>\n",
       "      <td>2</td>\n",
       "      <td>22</td>\n",
       "      <td>0</td>\n",
       "      <td>6</td>\n",
       "      <td>13</td>\n",
       "      <td>2</td>\n",
       "      <td>7</td>\n",
       "      <td>0</td>\n",
       "    </tr>\n",
       "  </tbody>\n",
       "</table>\n",
       "<p>3 rows × 4111 columns</p>\n",
       "</div>"
      ],
      "text/plain": [
       "   aa  aaa  aaaaa  aaarated  aada  aaic  aamount  ab  abilities  ability  ...  \\\n",
       "0   0    6      0         2     2     3        3   1          1       57  ...   \n",
       "1   2    7      0         1     2     3        0   0          1       70  ...   \n",
       "2   0    7      1         2     2     0        2   1          3       75  ...   \n",
       "\n",
       "   yeartoyear  yes  yetpurchased  yield  yieldcost  yields  york  yorkbased  \\\n",
       "0           0    5             0     22          2       7     4          0   \n",
       "1           0    5             0     37          0       7     8          0   \n",
       "2           1    4             2     22          0       6    13          2   \n",
       "\n",
       "   zero  zip  \n",
       "0     1    1  \n",
       "1     1    1  \n",
       "2     7    0  \n",
       "\n",
       "[3 rows x 4111 columns]"
      ]
     },
     "execution_count": 24,
     "metadata": {},
     "output_type": "execute_result"
    }
   ],
   "source": [
    " \n",
    "months = ['january','february','march','april','june','july','august','september','october','november','december']\n",
    "stop_words = text.ENGLISH_STOP_WORDS.union(months + ['company', 'financial'])\n",
    "vect=CountVectorizer(ngram_range=(1,1),stop_words=stop_words)\n",
    "fin=vect.fit_transform(newtext)\n",
    "#merged texts is the most recent one from the above generate files\n",
    "pd.DataFrame(fin.toarray(),columns=vect.get_feature_names()).head()"
   ]
  },
  {
   "cell_type": "code",
   "execution_count": 25,
   "metadata": {},
   "outputs": [
    {
     "data": {
      "text/plain": [
       "array([[9.69794134e-06, 9.69794134e-06, 9.69794134e-06, 9.99960942e-01,\n",
       "        9.96406167e-06],\n",
       "       [8.07021700e-06, 8.07021700e-06, 8.07021700e-06, 9.99967508e-01,\n",
       "        8.28103706e-06],\n",
       "       [5.10535647e-06, 5.10535647e-06, 5.10535647e-06, 1.25419076e-03,\n",
       "        9.98730493e-01]])"
      ]
     },
     "execution_count": 25,
     "metadata": {},
     "output_type": "execute_result"
    }
   ],
   "source": [
    "lda=LatentDirichletAllocation(n_components=5)\n",
    "da_lda=lda.fit_transform(fin)\n",
    "da_lda"
   ]
  },
  {
   "cell_type": "code",
   "execution_count": 26,
   "metadata": {},
   "outputs": [
    {
     "name": "stdout",
     "output_type": "stream",
     "text": [
      "topic 0       topic 1       topic 2       topic 3       topic 4       \n",
      "--------      --------      --------      --------      --------      \n",
      "anticipates   anticipates   anticipates   mbs           securities    \n",
      "expresses     expresses     expresses     securities    investment    \n",
      "reposition    reposition    reposition    value         capital       \n",
      "unduly        unduly        unduly        income        mortgage      \n",
      "single        single        single        net           value         \n",
      "took          took          took          stock         fbr           \n",
      "task          task          task          assets        market        \n",
      "enforce       enforce       enforce       cash          income        \n",
      "prohibit      prohibit      prohibit      market        net           \n",
      "malfunctioningmalfunctioningmalfunctioninginvestment    loans         \n",
      "\n",
      "\n"
     ]
    }
   ],
   "source": [
    "sorting=np.argsort(lda.components_)[:,::-1]\n",
    "features=np.array(vect.get_feature_names())\n",
    "import mglearn\n",
    "mglearn.tools.print_topics(topics=range(5), feature_names=features,sorting=sorting, topics_per_chunk=5, n_words=10)"
   ]
  },
  {
   "cell_type": "markdown",
   "metadata": {},
   "source": [
    "## Getting the aggregate list of documents to do topic modelling on"
   ]
  },
  {
   "cell_type": "code",
   "execution_count": 7,
   "metadata": {},
   "outputs": [
    {
     "data": {
      "application/vnd.jupyter.widget-view+json": {
       "model_id": "b04bb25c0ab54abe866941f1f350c23d",
       "version_major": 2,
       "version_minor": 0
      },
      "text/plain": [
       "HBox(children=(HTML(value=''), FloatProgress(value=0.0, max=303.0), HTML(value='')))"
      ]
     },
     "metadata": {},
     "output_type": "display_data"
    },
    {
     "name": "stdout",
     "output_type": "stream",
     "text": [
      "\n",
      "The total number of documents is: 5619\n"
     ]
    },
    {
     "data": {
      "application/vnd.jupyter.widget-view+json": {
       "model_id": "444e31361dfd4d2896b767b479e7ce50",
       "version_major": 2,
       "version_minor": 0
      },
      "text/plain": [
       "HBox(children=(HTML(value=''), FloatProgress(value=0.0, max=5619.0), HTML(value='')))"
      ]
     },
     "metadata": {},
     "output_type": "display_data"
    },
    {
     "name": "stdout",
     "output_type": "stream",
     "text": [
      "\n",
      "dkhtm united states washington dc mark one x pursuant to section or d of the securities exchange act of for the fiscal year ended december or ̈ transition report pursuant to section or d of the securities exchange act of for the transition period from to commission file number arlington asset investment corp exact name of registrant as specified in its charter virginia state or other jurisdiction \n"
     ]
    }
   ],
   "source": [
    "try:\n",
    "    hahahaha #don't run this time\n",
    "    with open(\"combined_texts.p\", \"rb\" ) as f:\n",
    "        newtext = pickle.load(f)\n",
    "except:\n",
    "    merged_cik_texts = []\n",
    "    for ind, cik in enumerate(tqdm(ciks)):\n",
    "        # score_path = 'final_10ks/' + cik.strip(\"'\") + '/rawtext/' + cik.strip(\"'\") + '_sim_scores.csv'\n",
    "        text_path = 'final_10ks/' + cik.strip(\"'\") + '/merged_texts.p'\n",
    "        with open(text_path, \"rb\" ) as f:\n",
    "            cik_texts = pickle.load(f)\n",
    "            merged_cik_texts += cik_texts\n",
    "    print(f'The total number of documents is: {len(merged_cik_texts)}')\n",
    "    newtext = []\n",
    "    for entry in tqdm(merged_cik_texts):\n",
    "        # getting rid of the terms seperately uses less memory\n",
    "        entry = entry.replace('Form 10-K','')\n",
    "        entry = entry.replace('FORM 10-K','')\n",
    "        entry = entry.replace('10-K','')\n",
    "        entry = re.sub(r'\\d+', '', entry)#remove numbers\n",
    "        entry = \"\".join([char.lower() for char in entry if char not in string.punctuation])\n",
    "        #^^remove punctuation and make lowercase\n",
    "        entry = \"\".join([char for char in entry if not char.isdigit()])\n",
    "        #^^remove numbers\n",
    "        entry = entry.replace('table of contents','')\n",
    "        entry = entry.replace('securities and exchange commission','')\n",
    "        entry = entry.replace('annual report','')\n",
    "        entry = entry.replace('loans','loan')\n",
    "        entry = entry.replace('shares','share')\n",
    "        entry = entry.replace('companys','company')\n",
    "        entry = entry.replace('million','')\n",
    "        entry = re.sub('\\s+', ' ', entry).strip() #remove doublespaces\n",
    "        newtext.append(entry)\n",
    "    print(newtext[0][:400])\n",
    "    with open(\"combined_texts.p\", \"wb\" ) as f:\n",
    "        pickle.dump(newtext, f)"
   ]
  },
  {
   "cell_type": "code",
   "execution_count": 8,
   "metadata": {},
   "outputs": [
    {
     "data": {
      "text/plain": [
       "['formkhtm', 'arlington', 'asset', 'investment', 'corp', 'formkhtm']"
      ]
     },
     "execution_count": 8,
     "metadata": {},
     "output_type": "execute_result"
    }
   ],
   "source": [
    "newtext[1][:50].split()"
   ]
  },
  {
   "cell_type": "code",
   "execution_count": 9,
   "metadata": {},
   "outputs": [
    {
     "data": {
      "application/vnd.jupyter.widget-view+json": {
       "model_id": "9ab4ba7cfde94b2eadb45ac1cb234248",
       "version_major": 2,
       "version_minor": 0
      },
      "text/plain": [
       "HBox(children=(HTML(value=''), FloatProgress(value=0.0, max=5619.0), HTML(value='')))"
      ]
     },
     "metadata": {},
     "output_type": "display_data"
    },
    {
     "name": "stdout",
     "output_type": "stream",
     "text": [
      "The document skip count is: 5\n"
     ]
    }
   ],
   "source": [
    "months = ['january','february','march','april','june','july','august','september','october','november','december']\n",
    "freq_words = ['capital','management','creditors','brokerage','operating','product','products','business','value',\n",
    "              'fair','statements','assets','operations','including','tax','consolidated','company', 'financial',\n",
    "              'stock','cash','net','year', 'years','market','income','certain','related','costs','sales', 'new',\n",
    "              'share', 'approximately', 'accounting', 'common', 'percent']\n",
    "stop_words = text.ENGLISH_STOP_WORDS.union(months + freq_words)\n",
    "\n",
    "nlp = spacy.blank('en')\n",
    "lemma_docs = []\n",
    "doc_skip_count = 0\n",
    "for document in tqdm(newtext):\n",
    "    try:\n",
    "        lemma_text = []\n",
    "        lemma_doc = nlp(document)\n",
    "        lemma_words = [token.lemma_.strip() for token in lemma_doc]\n",
    "        for lemma_word in lemma_words:\n",
    "            if (len(lemma_word) > 2):\n",
    "                lemma_text.append(lemma_word)\n",
    "        lemma_docs.append(' '.join(lemma_text))\n",
    "    except:\n",
    "        doc_skip_count += 1\n",
    "        print(f'The document skip count is: {doc_skip_count}', end = '\\r')"
   ]
  },
  {
   "cell_type": "code",
   "execution_count": 10,
   "metadata": {},
   "outputs": [
    {
     "data": {
      "text/html": [
       "<div>\n",
       "<style scoped>\n",
       "    .dataframe tbody tr th:only-of-type {\n",
       "        vertical-align: middle;\n",
       "    }\n",
       "\n",
       "    .dataframe tbody tr th {\n",
       "        vertical-align: top;\n",
       "    }\n",
       "\n",
       "    .dataframe thead th {\n",
       "        text-align: right;\n",
       "    }\n",
       "</style>\n",
       "<table border=\"1\" class=\"dataframe\">\n",
       "  <thead>\n",
       "    <tr style=\"text-align: right;\">\n",
       "      <th></th>\n",
       "      <th>aa</th>\n",
       "      <th>aaa</th>\n",
       "      <th>aaaa</th>\n",
       "      <th>aaaaa</th>\n",
       "      <th>aaaaaa</th>\n",
       "      <th>aaaaaarated</th>\n",
       "      <th>aaaaamortgagebacked</th>\n",
       "      <th>aaaaaobligations</th>\n",
       "      <th>aaaaaprerefunded</th>\n",
       "      <th>aaaaarated</th>\n",
       "      <th>...</th>\n",
       "      <th>μgkg</th>\n",
       "      <th>μgl</th>\n",
       "      <th>μl</th>\n",
       "      <th>μscm</th>\n",
       "      <th>上a</th>\n",
       "      <th>公o</th>\n",
       "      <th>司i</th>\n",
       "      <th>技z术o</th>\n",
       "      <th>有l限a</th>\n",
       "      <th>海c斯z丹o赛u</th>\n",
       "    </tr>\n",
       "  </thead>\n",
       "  <tbody>\n",
       "    <tr>\n",
       "      <th>0</th>\n",
       "      <td>0</td>\n",
       "      <td>6</td>\n",
       "      <td>0</td>\n",
       "      <td>0</td>\n",
       "      <td>0</td>\n",
       "      <td>0</td>\n",
       "      <td>0</td>\n",
       "      <td>0</td>\n",
       "      <td>0</td>\n",
       "      <td>0</td>\n",
       "      <td>...</td>\n",
       "      <td>0</td>\n",
       "      <td>0</td>\n",
       "      <td>0</td>\n",
       "      <td>0</td>\n",
       "      <td>0</td>\n",
       "      <td>0</td>\n",
       "      <td>0</td>\n",
       "      <td>0</td>\n",
       "      <td>0</td>\n",
       "      <td>0</td>\n",
       "    </tr>\n",
       "    <tr>\n",
       "      <th>1</th>\n",
       "      <td>0</td>\n",
       "      <td>7</td>\n",
       "      <td>0</td>\n",
       "      <td>0</td>\n",
       "      <td>0</td>\n",
       "      <td>0</td>\n",
       "      <td>0</td>\n",
       "      <td>0</td>\n",
       "      <td>0</td>\n",
       "      <td>0</td>\n",
       "      <td>...</td>\n",
       "      <td>0</td>\n",
       "      <td>0</td>\n",
       "      <td>0</td>\n",
       "      <td>0</td>\n",
       "      <td>0</td>\n",
       "      <td>0</td>\n",
       "      <td>0</td>\n",
       "      <td>0</td>\n",
       "      <td>0</td>\n",
       "      <td>0</td>\n",
       "    </tr>\n",
       "    <tr>\n",
       "      <th>2</th>\n",
       "      <td>0</td>\n",
       "      <td>7</td>\n",
       "      <td>0</td>\n",
       "      <td>1</td>\n",
       "      <td>0</td>\n",
       "      <td>0</td>\n",
       "      <td>0</td>\n",
       "      <td>0</td>\n",
       "      <td>0</td>\n",
       "      <td>0</td>\n",
       "      <td>...</td>\n",
       "      <td>0</td>\n",
       "      <td>0</td>\n",
       "      <td>0</td>\n",
       "      <td>0</td>\n",
       "      <td>0</td>\n",
       "      <td>0</td>\n",
       "      <td>0</td>\n",
       "      <td>0</td>\n",
       "      <td>0</td>\n",
       "      <td>0</td>\n",
       "    </tr>\n",
       "    <tr>\n",
       "      <th>3</th>\n",
       "      <td>0</td>\n",
       "      <td>2</td>\n",
       "      <td>0</td>\n",
       "      <td>1</td>\n",
       "      <td>0</td>\n",
       "      <td>0</td>\n",
       "      <td>0</td>\n",
       "      <td>0</td>\n",
       "      <td>0</td>\n",
       "      <td>0</td>\n",
       "      <td>...</td>\n",
       "      <td>0</td>\n",
       "      <td>0</td>\n",
       "      <td>0</td>\n",
       "      <td>0</td>\n",
       "      <td>0</td>\n",
       "      <td>0</td>\n",
       "      <td>0</td>\n",
       "      <td>0</td>\n",
       "      <td>0</td>\n",
       "      <td>0</td>\n",
       "    </tr>\n",
       "    <tr>\n",
       "      <th>4</th>\n",
       "      <td>0</td>\n",
       "      <td>1</td>\n",
       "      <td>0</td>\n",
       "      <td>0</td>\n",
       "      <td>0</td>\n",
       "      <td>0</td>\n",
       "      <td>0</td>\n",
       "      <td>0</td>\n",
       "      <td>0</td>\n",
       "      <td>0</td>\n",
       "      <td>...</td>\n",
       "      <td>0</td>\n",
       "      <td>0</td>\n",
       "      <td>0</td>\n",
       "      <td>0</td>\n",
       "      <td>0</td>\n",
       "      <td>0</td>\n",
       "      <td>0</td>\n",
       "      <td>0</td>\n",
       "      <td>0</td>\n",
       "      <td>0</td>\n",
       "    </tr>\n",
       "  </tbody>\n",
       "</table>\n",
       "<p>5 rows × 265293 columns</p>\n",
       "</div>"
      ],
      "text/plain": [
       "   aa  aaa  aaaa  aaaaa  aaaaaa  aaaaaarated  aaaaamortgagebacked  \\\n",
       "0   0    6     0      0       0            0                    0   \n",
       "1   0    7     0      0       0            0                    0   \n",
       "2   0    7     0      1       0            0                    0   \n",
       "3   0    2     0      1       0            0                    0   \n",
       "4   0    1     0      0       0            0                    0   \n",
       "\n",
       "   aaaaaobligations  aaaaaprerefunded  aaaaarated  ...  μgkg  μgl  μl  μscm  \\\n",
       "0                 0                 0           0  ...     0    0   0     0   \n",
       "1                 0                 0           0  ...     0    0   0     0   \n",
       "2                 0                 0           0  ...     0    0   0     0   \n",
       "3                 0                 0           0  ...     0    0   0     0   \n",
       "4                 0                 0           0  ...     0    0   0     0   \n",
       "\n",
       "   上a  公o  司i  技z术o  有l限a  海c斯z丹o赛u  \n",
       "0   0   0   0     0     0         0  \n",
       "1   0   0   0     0     0         0  \n",
       "2   0   0   0     0     0         0  \n",
       "3   0   0   0     0     0         0  \n",
       "4   0   0   0     0     0         0  \n",
       "\n",
       "[5 rows x 265293 columns]"
      ]
     },
     "execution_count": 10,
     "metadata": {},
     "output_type": "execute_result"
    }
   ],
   "source": [
    "vect=CountVectorizer(ngram_range=(1,1),stop_words=stop_words)\n",
    "final_corpus=vect.fit_transform(lemma_docs)\n",
    "#merged texts is the most recent one from the above generate files\n",
    "pd.DataFrame(final_corpus.toarray(),columns=vect.get_feature_names()).head()"
   ]
  },
  {
   "cell_type": "code",
   "execution_count": 11,
   "metadata": {},
   "outputs": [
    {
     "data": {
      "text/plain": [
       "array([[9.25268683e-06, 9.23162132e-01, 9.24886725e-06, 9.24058972e-06,\n",
       "        9.24485334e-06, 7.68008815e-02],\n",
       "       [4.75151838e-03, 9.20341950e-01, 7.65297986e-06, 7.64772726e-06,\n",
       "        7.65315594e-06, 7.48835780e-02],\n",
       "       [6.04883900e-02, 8.14814712e-01, 4.84116950e-06, 4.84314957e-06,\n",
       "        4.84057328e-06, 1.24682373e-01],\n",
       "       ...,\n",
       "       [4.70946163e-06, 9.99269638e-01, 4.70976002e-06, 5.25025103e-04,\n",
       "        4.70695415e-06, 1.91211058e-04],\n",
       "       [4.29888770e-06, 9.95434592e-01, 1.32722929e-03, 1.08099217e-03,\n",
       "        4.29652410e-06, 2.14859141e-03],\n",
       "       [5.48926489e-02, 8.84989063e-01, 4.34009739e-02, 7.17412979e-05,\n",
       "        7.18256029e-05, 1.65737470e-02]])"
      ]
     },
     "execution_count": 11,
     "metadata": {},
     "output_type": "execute_result"
    }
   ],
   "source": [
    "lda=LatentDirichletAllocation(n_components=6)\n",
    "da_lda=lda.fit_transform(final_corpus)\n",
    "da_lda"
   ]
  },
  {
   "cell_type": "code",
   "execution_count": 12,
   "metadata": {},
   "outputs": [
    {
     "name": "stdout",
     "output_type": "stream",
     "text": [
      "topic 0       topic 1       topic 2       topic 3       topic 4       topic 5       \n",
      "--------      --------      --------      --------      --------      --------      \n",
      "services      loan          share         gas           development   properties    \n",
      "share         securities    fiscal        energy        share         share         \n",
      "revenue       bank          plan          natural       agreement     ended         \n",
      "ended         credit        ended         power         common        property      \n",
      "customers     losses        credit        electric      clinical      common        \n",
      "common        rate          rate          rate          future        partnership   \n",
      "results       total         results       plan          research      loan          \n",
      "fiscal        risk          based         cost          ended         real          \n",
      "based         investment    notes         approximately health        agreement     \n",
      "plan          share         accounting    oil           results       estate        \n",
      "future        loss          new           production    additional    debt          \n",
      "information   insurance     agreement     share         price         credit        \n",
      "accounting    based         cost          ppl           regulatory    rate          \n",
      "new           changes       information   total         based         lease         \n",
      "agreement     equity        incorporated  ended         period        approximately \n",
      "loss          federal       expense       new           fda           notes         \n",
      "compensation  ended         approximately future        loss          accounting    \n",
      "period        commercial    reference     credit        plan          investment    \n",
      "expense       rates         item          accounting    information   preferred     \n",
      "increase      increase      future        based         new           based         \n",
      "\n",
      "\n"
     ]
    }
   ],
   "source": [
    "sorting=np.argsort(lda.components_)[:,::-1]\n",
    "features=np.array(vect.get_feature_names())\n",
    "import mglearn\n",
    "mglearn.tools.print_topics(topics=range(6), feature_names=features,sorting=sorting, topics_per_chunk=6, n_words=20)"
   ]
  },
  {
   "cell_type": "code",
   "execution_count": 13,
   "metadata": {},
   "outputs": [
    {
     "data": {
      "text/html": [
       "\n",
       "<link rel=\"stylesheet\" type=\"text/css\" href=\"https://cdn.rawgit.com/bmabey/pyLDAvis/files/ldavis.v1.0.0.css\">\n",
       "\n",
       "\n",
       "<div id=\"ldavis_el102551401149952446081972924712\"></div>\n",
       "<script type=\"text/javascript\">\n",
       "\n",
       "var ldavis_el102551401149952446081972924712_data = {\"mdsDat\": {\"x\": [1.4650187492370605, 54.85479736328125, 32.212928771972656, 5.111096382141113, 26.350170135498047, 38.10981750488281], \"y\": [-47.625064849853516, -36.4767951965332, -61.44457244873047, -14.110331535339355, -33.37470245361328, -7.222781181335449], \"topics\": [1, 2, 3, 4, 5, 6], \"cluster\": [1, 1, 1, 1, 1, 1], \"Freq\": [24.334770549490948, 22.89155382081024, 21.576603138176484, 11.60675543991785, 10.960681944420974, 8.6296351071835]}, \"tinfo\": {\"Term\": [\"loan\", \"gas\", \"energy\", \"properties\", \"bank\", \"real\", \"estate\", \"natural\", \"development\", \"property\", \"clinical\", \"electric\", \"oil\", \"power\", \"partnership\", \"research\", \"ppl\", \"mortgage\", \"share\", \"common\", \"banking\", \"production\", \"agreement\", \"securities\", \"health\", \"fda\", \"regulatory\", \"lease\", \"ended\", \"fuel\", \"nnn\", \"bunge\", \"footwear\", \"wynn\", \"aimco\", \"grainger\", \"taubman\", \"abbotts\", \"darling\", \"astec\", \"gst\", \"willis\", \"beer\", \"macerich\", \"wagering\", \"axle\", \"ecolab\", \"enpro\", \"churchill\", \"towing\", \"citycenter\", \"perini\", \"extrusions\", \"beazer\", \"tempur\", \"tempurpedic\", \"coltec\", \"ethylene\", \"lkq\", \"bunges\", \"macau\", \"golf\", \"visteon\", \"spartan\", \"casino\", \"apparel\", \"stores\", \"pepsico\", \"mgm\", \"lear\", \"racing\", \"hasbro\", \"merchandise\", \"chassis\", \"gaming\", \"sporting\", \"bakery\", \"ball\", \"vegas\", \"store\", \"vehicle\", \"aluminum\", \"las\", \"vehicles\", \"automotive\", \"raw\", \"food\", \"beverage\", \"restaurant\", \"brands\", \"fiscal\", \"profit\", \"inventory\", \"companys\", \"segment\", \"pension\", \"foreign\", \"facility\", \"plan\", \"share\", \"earnings\", \"benefit\", \"currency\", \"notes\", \"reference\", \"incorporated\", \"cost\", \"results\", \"approximately\", \"ended\", \"credit\", \"expense\", \"new\", \"included\", \"item\", \"based\", \"accounting\", \"rate\", \"agreement\", \"information\", \"exhibit\", \"debt\", \"reporting\", \"liabilities\", \"future\", \"loss\", \"total\", \"common\", \"compensation\", \"period\", \"current\", \"viad\", \"adobe\", \"intel\", \"qad\", \"tucows\", \"wafer\", \"kilroy\", \"autoliv\", \"seagate\", \"jetblue\", \"saia\", \"dhl\", \"caci\", \"taser\", \"ueps\", \"ceva\", \"airbus\", \"zar\", \"triotech\", \"veeco\", \"microvision\", \"wafers\", \"synnex\", \"axcelis\", \"cogent\", \"omnicell\", \"northrop\", \"grumman\", \"supportcom\", \"pixelworks\", \"semiconductor\", \"ual\", \"hawaiian\", \"airlines\", \"omx\", \"cme\", \"boeing\", \"cbre\", \"abx\", \"aircraft\", \"airline\", \"flight\", \"software\", \"solutions\", \"domain\", \"digital\", \"display\", \"nasdaq\", \"memory\", \"content\", \"technology\", \"revenue\", \"services\", \"solution\", \"mobile\", \"systems\", \"customers\", \"communications\", \"customer\", \"devices\", \"technologies\", \"revenues\", \"fiscal\", \"network\", \"support\", \"share\", \"service\", \"foreign\", \"results\", \"ended\", \"compensation\", \"common\", \"contract\", \"future\", \"number\", \"information\", \"based\", \"new\", \"accounting\", \"exchange\", \"plan\", \"agreement\", \"loss\", \"expenses\", \"period\", \"price\", \"expense\", \"increase\", \"reporting\", \"cost\", \"significant\", \"item\", \"total\", \"notes\", \"result\", \"securities\", \"fhlb\", \"mbs\", \"alliancebernstein\", \"frb\", \"bancorp\", \"riskweighted\", \"oreo\", \"ihop\", \"tdrs\", \"applebees\", \"firstbank\", \"macatawa\", \"tdr\", \"umpqua\", \"depositors\", \"alll\", \"nara\", \"propertyliability\", \"ctbi\", \"nlasco\", \"undercapitalized\", \"unsound\", \"zions\", \"allstate\", \"noncovered\", \"contractholder\", \"taxequivalent\", \"fhlbny\", \"scb\", \"alco\", \"nonaccrual\", \"bbt\", \"reinsurance\", \"nonperforming\", \"noninterest\", \"chargeoffs\", \"riskbased\", \"fdic\", \"axa\", \"interestearning\", \"basel\", \"bancshare\", \"brokered\", \"policyholders\", \"msrs\", \"banking\", \"cfc\", \"substandard\", \"loan\", \"tier\", \"catastrophe\", \"axis\", \"mortgagebacked\", \"banks\", \"deposits\", \"lending\", \"interestbearing\", \"bank\", \"depository\", \"deposit\", \"underwriting\", \"residential\", \"servicing\", \"holding\", \"mortgage\", \"premiums\", \"portfolio\", \"losses\", \"securities\", \"collateral\", \"reserve\", \"insurance\", \"commercial\", \"estate\", \"investment\", \"risk\", \"real\", \"allowance\", \"institutions\", \"federal\", \"credit\", \"total\", \"rate\", \"average\", \"corporation\", \"rates\", \"loss\", \"equity\", \"changes\", \"based\", \"share\", \"increase\", \"ended\", \"information\", \"common\", \"plan\", \"ppl\", \"oge\", \"xcel\", \"ferc\", \"pge\", \"dte\", \"sce\", \"enogex\", \"nspminnesota\", \"nhc\", \"cecony\", \"psco\", \"mpsc\", \"pscw\", \"energys\", \"vail\", \"sces\", \"ppls\", \"lge\", \"cliffs\", \"nonutility\", \"gypsum\", \"nspwisconsin\", \"cpuc\", \"opuc\", \"clevelandcliffs\", \"miso\", \"coalfired\", \"velarden\", \"lke\", \"edison\", \"dominion\", \"coal\", \"decommissioning\", \"nustar\", \"nuclear\", \"mines\", \"gas\", \"electric\", \"pipelines\", \"energy\", \"mining\", \"pvr\", \"iron\", \"electricity\", \"montana\", \"natural\", \"utility\", \"transmission\", \"epa\", \"mineral\", \"wisconsin\", \"power\", \"ore\", \"exploration\", \"generation\", \"virginia\", \"oil\", \"gold\", \"emissions\", \"fuel\", \"pipeline\", \"plants\", \"production\", \"plant\", \"environmental\", \"project\", \"prices\", \"percent\", \"supply\", \"facilities\", \"rate\", \"approximately\", \"cost\", \"plan\", \"regulatory\", \"contracts\", \"total\", \"new\", \"future\", \"debt\", \"rates\", \"accounting\", \"customers\", \"ended\", \"share\", \"price\", \"credit\", \"increase\", \"based\", \"information\", \"agreement\", \"liabilities\", \"preclinical\", \"vaccine\", \"therapeutic\", \"adcetris\", \"nda\", \"ver\", \"therapies\", \"whiting\", \"antibody\", \"cerus\", \"vaccines\", \"antibodies\", \"platelet\", \"novogen\", \"genentech\", \"ova\", \"vascular\", \"peramivir\", \"prostate\", \"dorchester\", \"novavax\", \"investigational\", \"surmodics\", \"biologics\", \"cytori\", \"ovarian\", \"toremifene\", \"disorders\", \"genetics\", \"breast\", \"clinical\", \"fda\", \"patients\", \"trials\", \"blood\", \"merck\", \"therapy\", \"scheringplough\", \"therapeutics\", \"payors\", \"invisalign\", \"inhibitor\", \"pharma\", \"collaborators\", \"cancer\", \"medicaid\", \"drugs\", \"pharmaceuticals\", \"pharmaceutical\", \"commercialization\", \"efficacy\", \"drug\", \"influenza\", \"candidates\", \"patient\", \"physicians\", \"commercialize\", \"diagnostic\", \"disease\", \"milestone\", \"diagnostics\", \"trial\", \"abbott\", \"proved\", \"collaboration\", \"patent\", \"laboratories\", \"medical\", \"studies\", \"research\", \"care\", \"health\", \"phase\", \"development\", \"treatment\", \"approval\", \"oil\", \"patents\", \"agreement\", \"share\", \"common\", \"regulatory\", \"future\", \"rights\", \"license\", \"additional\", \"marketing\", \"price\", \"ended\", \"states\", \"results\", \"period\", \"use\", \"based\", \"loss\", \"information\", \"new\", \"plan\", \"accounting\", \"filed\", \"securities\", \"significant\", \"tds\", \"carmax\", \"ffo\", \"hdfs\", \"wilhelmina\", \"whitestone\", \"cellco\", \"sovran\", \"ashford\", \"nareit\", \"wfn\", \"hmn\", \"cellulars\", \"comenity\", \"solitario\", \"uti\", \"epsilon\", \"travelzoo\", \"solitarios\", \"pillarstone\", \"ilec\", \"buell\", \"clec\", \"pmc\", \"gaiam\", \"longdistance\", \"smsa\", \"bongara\", \"mhllc\", \"affo\", \"reit\", \"gladstone\", \"caf\", \"realty\", \"selfstorage\", \"tenants\", \"fcc\", \"redevelopment\", \"roaming\", \"expeditors\", \"cim\", \"inplace\", \"tenant\", \"motorcycles\", \"students\", \"cellular\", \"primus\", \"hotel\", \"kinross\", \"partnership\", \"reits\", \"motorcycle\", \"rentable\", \"hotels\", \"properties\", \"rents\", \"apartment\", \"rental\", \"distributions\", \"property\", \"wireless\", \"real\", \"estate\", \"leasing\", \"unconsolidated\", \"lease\", \"interests\", \"joint\", \"square\", \"leases\", \"preferred\", \"share\", \"ended\", \"common\", \"debt\", \"centers\", \"agreement\", \"series\", \"rate\", \"credit\", \"loan\", \"sale\", \"approximately\", \"notes\", \"investment\", \"stockholders\", \"limited\", \"accounting\", \"filed\", \"services\", \"equity\", \"based\", \"total\", \"form\", \"dated\", \"reference\", \"results\", \"incorporated\", \"future\"], \"Freq\": [583316.0, 143907.0, 124560.0, 130518.0, 259178.0, 124901.0, 116865.0, 88717.0, 203400.0, 181676.0, 54662.0, 58241.0, 83621.0, 82553.0, 55910.0, 80208.0, 43389.0, 88424.0, 630283.0, 404714.0, 64434.0, 101761.0, 346828.0, 402804.0, 76212.0, 33267.0, 142339.0, 140320.0, 459127.0, 52207.0, 9029.694947399232, 8688.949136681398, 8021.347547216532, 17342.57951960279, 6505.763358209794, 4834.796297464388, 4023.7006713537994, 3675.955645146386, 3546.4247229836383, 3070.1358130353983, 3621.985818579903, 6706.015659568877, 3908.795329038549, 2836.9578870114337, 2750.2851864917166, 2675.5537303835436, 2817.9596933620824, 2329.795996343183, 2465.258940416966, 2260.0463845163963, 2113.572381966845, 2102.611084819039, 2011.9381535229106, 1942.1875021788896, 1924.252920633125, 1873.4355853986126, 1870.446338929274, 1873.4330658318106, 1833.5787645172627, 1816.6397079520655, 12355.757043376527, 12172.968145006693, 7291.169673188003, 7486.495738718501, 7097.515563705071, 7051.919898547475, 51129.9850000893, 4920.627297581224, 6940.212841710027, 3949.721245035831, 3618.889244047172, 3280.2704512411647, 21127.927257474425, 4064.356428879104, 15163.309291601572, 5709.521536436888, 3317.9210152995847, 6577.589996473741, 9021.555732558087, 33767.00434677625, 26426.74161001291, 5926.937803790445, 9164.14707529514, 19169.49881609168, 17184.8158957529, 19426.803209035355, 18221.38485048852, 7412.158108918476, 14311.652245588739, 14292.914547499213, 133220.3432294133, 32308.048887979978, 40351.34277458137, 72205.04968099498, 66145.44651384269, 47960.55519679042, 72788.19595694281, 66832.40126497438, 127563.61964443517, 171163.86989807486, 75511.0607119093, 67975.8434352538, 44200.334713398195, 94113.1734521495, 84030.71173175325, 86121.57551526814, 87099.45619137686, 95275.72646848488, 84170.65508459456, 112707.02520204819, 102025.09247561544, 85137.97546199574, 89792.99636011712, 72750.3842488951, 83338.10789507667, 95018.69923588545, 89873.86018098494, 96218.99225635854, 89201.57599009768, 86377.14115534928, 69594.05101460655, 74997.95381423566, 72121.64250747004, 74249.47008333863, 81059.95416292473, 79748.48010169955, 78944.2195031763, 80407.42442888227, 73940.8681480824, 75145.25879932827, 72940.21807395991, 10541.607233201823, 8360.448117580794, 6555.623071379126, 6232.194903848591, 5262.901322269846, 4857.614465034941, 8343.78985863889, 4483.272943163981, 4220.735984754334, 3867.3577424675586, 3461.07273800754, 3331.3017407645775, 3149.6217413663862, 2950.9712575701606, 2937.9941871723154, 2615.561809951946, 2608.573366895454, 2560.65778040367, 2539.694908975933, 3620.3983854520948, 2357.0167069225945, 2327.0697799570735, 2318.085438534112, 2261.1858136757414, 2020.6085278220253, 1914.7953259983155, 4103.97152754428, 4515.948056896522, 1754.0786236669203, 1648.264907756257, 20547.79797994659, 8457.205042729192, 7919.101818867503, 10150.073536769047, 5314.025623584067, 5819.000753827314, 4644.373839794702, 3698.879849705759, 3493.895914967621, 31943.570417878916, 5819.879464890775, 4519.25041487233, 48877.20116969264, 37296.38741086077, 7170.395568540769, 16778.475866446253, 7495.30742837007, 27745.39559464604, 4725.027103453167, 13302.15571078993, 68384.96731595184, 147793.95947545473, 165919.72813598855, 6617.6801049744545, 12168.982537417045, 62026.11081783859, 109816.50233514664, 14601.556343777147, 66325.59044081919, 15601.88169054314, 28839.183039684154, 68913.83437593139, 92283.99837566822, 24236.540986611442, 33767.9939256101, 158946.6568739718, 68568.25484910428, 59014.570371895075, 95167.46495963706, 114448.88359409143, 76881.75111990306, 98529.27701527708, 38901.52023326945, 86205.17721489193, 57664.68296536687, 84181.2225806065, 89630.06684255952, 82200.17448128707, 83762.72905115769, 60101.087230389814, 87763.42152177253, 81195.42795297179, 79791.27770328466, 63942.03946536943, 74814.68636995745, 66789.88109797756, 71797.69661279998, 71530.88469271932, 65881.8528190809, 69355.61044208877, 66133.21821066928, 68713.5613095345, 70413.14692837364, 67785.34018737811, 66329.7171776568, 67067.97224457383, 16601.560966321045, 8163.89804976677, 6547.889041646428, 8222.31641407911, 30079.877025452726, 5294.536353081228, 5220.810357608666, 5067.375831318587, 4602.103961836785, 3874.7967459066485, 3474.284106993445, 2811.7420835761504, 2728.051858357867, 2665.285077104114, 2704.115584303241, 2613.476984971925, 2640.3577488917012, 2569.6396330785383, 2489.9352701643143, 2485.947928784535, 5039.524743017657, 2694.057336418151, 2332.513367467636, 9965.119794076672, 1988.7928059353537, 1935.9889100586681, 1837.3538277515117, 1738.7203875937012, 1703.8477330687313, 1678.9417709300042, 16915.908588196085, 15641.984970379404, 22396.589227249417, 16190.748616496969, 20208.888865172154, 12773.451188969797, 11068.28562224927, 25867.859598157334, 5249.285501066066, 7186.037175719233, 7387.518966274634, 4480.652144867189, 5318.033818646444, 3459.434654494757, 2974.4051134059023, 62234.30531196581, 11483.235597914083, 4496.427732526045, 507541.6919174852, 21985.456199585355, 6517.90304670859, 5881.212806476882, 12287.622319336524, 48174.55148118958, 64286.8340149493, 29343.14701281706, 11954.683875399136, 203869.56137771677, 9473.920166993208, 43153.438822152086, 19549.03393611368, 35931.19764488987, 22793.662996324012, 52595.5069681114, 64968.93068749275, 22825.98487113004, 67615.53446572296, 135739.72841162147, 209842.15146449668, 41695.25893074825, 50455.00833028545, 91745.48441346531, 80862.04333490445, 66970.56514523034, 105945.77485070229, 116317.7569646544, 68809.53892218291, 65007.49144160441, 36773.020847484884, 84905.18999550943, 140770.26236335965, 121670.75004905101, 124570.68883590287, 71215.00722190217, 72980.46087012952, 80270.96433983112, 96134.70792178335, 87289.88481149178, 87745.25280602022, 87980.44489264613, 101714.76511552326, 75545.36403122336, 83627.00731500755, 73481.28789500827, 75200.20389557163, 73380.93865958849, 43388.39526203665, 14906.140128322104, 14658.42387351896, 13670.62868495949, 12152.599211228324, 9664.17676453376, 7772.515495084612, 7142.9981650369955, 5538.984047730952, 5335.273372248613, 4866.4650242656235, 4768.19740555356, 4122.292495391423, 4104.8901732236, 4028.1189721701803, 3942.1241894543773, 3801.844143408825, 3513.238004146837, 3313.6318970806005, 3272.686199848273, 2906.230714694148, 2752.686993492777, 2665.6797888984765, 2666.7007566481884, 2498.8295599640614, 2410.7979337213314, 2386.2272651195494, 2373.9466896713825, 2275.679545817276, 2188.6723484779513, 30795.66362479903, 26220.652254524382, 16018.374302135855, 7634.904801517533, 9785.966019516794, 12579.146429208264, 5089.321976133714, 137233.6724201364, 56429.901669780484, 7583.437668401044, 115282.46996988244, 14766.216730193795, 6317.234510789012, 8625.808532561061, 15801.69261792216, 8540.388086464867, 72608.87431531271, 22618.67858471638, 21232.12476500956, 14559.576940636669, 9468.69491676507, 16694.95578805039, 59885.07581271069, 9619.343816538181, 18654.458630856443, 21932.528900589896, 17832.249226341006, 46198.35952796802, 10275.311367940156, 12976.198774908833, 31792.435298733548, 13809.39145496278, 15928.955894709261, 44828.071464555476, 27083.774065501722, 30748.2402023643, 24328.32884080773, 36712.76186022321, 32916.8778063343, 25964.52468481661, 34614.91870404588, 53536.83953790773, 46475.35796550134, 46764.249092150465, 47793.50655466118, 33098.34380493928, 32216.836191719325, 43179.22817835652, 41417.26056131949, 41324.96191553485, 37750.14869320533, 36467.91381197836, 39140.81365971827, 35931.35125848689, 41726.13236075743, 43699.78047318622, 36194.93490666431, 39336.98483127239, 37303.59540163289, 38528.25737128113, 35967.834670232514, 35923.71267617139, 34406.71717849251, 9287.357103092307, 6042.479458587422, 4838.296178181205, 4320.828303714694, 3771.259109173977, 3753.752946509491, 3229.4755407788243, 3233.363501923002, 3097.1906668097245, 3056.337930805802, 3006.7262488559327, 2755.7782810581853, 2754.8055998833806, 2435.765023666413, 2360.8680286156405, 2324.8789122101375, 2319.006700789479, 2164.385948318627, 2117.6970219235036, 2120.610871206855, 2104.079462168443, 2103.1066919889254, 2095.324452662977, 1845.3448601868615, 1823.946146684299, 1818.1100715621922, 1768.5032066017213, 1737.3752854876652, 1788.9018920755407, 1708.1961816183625, 54634.87438379573, 33090.38657055043, 21331.895458421957, 23464.68088868557, 10605.96655918557, 9188.872038102027, 5829.270960923323, 4912.465519046078, 3300.2390368872752, 3133.586083818276, 3860.32479364241, 2777.538433941642, 3741.3504957001323, 4832.7497173017555, 11387.066768053186, 10605.052326623185, 9108.145825519645, 9379.167210989855, 17705.146621428754, 11209.245316154307, 6433.401907912954, 29748.223097998918, 4094.2223193067966, 21551.126778277183, 11457.30931057053, 5749.2967531637705, 6516.357638350423, 7313.859406918275, 10524.709904096258, 7704.58778807975, 5165.349872532715, 20285.03287780297, 11156.379205053214, 15921.248621727113, 9818.53953603748, 29111.230658144916, 7841.345260632405, 30783.93274153749, 12707.796557101581, 45896.50332072623, 30663.242776121562, 42279.84424325156, 17138.8294080326, 85980.92037872718, 24749.958993306103, 29319.087067062002, 31465.45009708187, 19153.01183561885, 61049.814677403316, 78011.00157915904, 60983.08018067502, 34570.0315067454, 49898.98193880981, 29629.081882971954, 20115.96212068623, 36468.00659819937, 24320.308671919778, 35751.72381229117, 44018.860019375046, 29955.063862003884, 37171.01272525825, 33643.074819098954, 28155.79862343287, 34071.35992404375, 32929.57263135922, 32525.74652042446, 32135.61874669178, 32745.77499097759, 31627.480287445997, 30268.65521977902, 30951.230687001287, 29861.815852527663, 12426.979234388387, 3599.614706204007, 6383.166630588877, 2887.5370339400674, 2527.9931591720574, 1870.9452327219426, 1546.5075255794025, 1677.5905165540398, 4135.900165491568, 1229.0133507225992, 1128.8746149169863, 1016.7021456918491, 946.5994055048333, 871.4850260408532, 5651.9818711077605, 807.3883467433852, 782.3502085073048, 3536.367161262473, 1170.3999326969965, 626.0955391926269, 601.0762223698997, 579.0423518160973, 534.9757948055806, 3033.673739253955, 3656.6607047768525, 721.8211488684626, 460.8640080917065, 454.79673367802025, 628.7159024336227, 514.746823537267, 22642.850125651337, 1981.9526838043466, 1478.9669424700107, 10927.886008244557, 1142.7900337048643, 14356.037270138393, 9133.058022714937, 5863.089114052258, 2126.6433751777936, 1059.5088434413726, 3626.3713650573663, 2748.0950695503675, 18142.06204146531, 3067.9758602025954, 4767.952347729316, 18813.872630350143, 1703.2516550514483, 12087.388519728558, 2124.659447403234, 46608.40141345959, 3230.867927622449, 3325.986304803655, 3239.6585536897965, 4334.994423089915, 78181.40290448914, 5622.582733422802, 4375.508915915137, 17591.947930237628, 17992.897553202944, 62402.635332738, 11496.87130748607, 45597.28580911349, 42986.3823060325, 9056.238704559106, 9574.8592781055, 39675.50074857309, 23079.201815115473, 21440.157624269927, 14636.966588633592, 27041.61812888079, 28359.59172392324, 76747.92548608874, 62599.121286504705, 57678.972927454655, 41967.03894572499, 13452.214861043247, 43415.768761458414, 17863.259730902053, 41229.73267910169, 41248.02673558976, 46260.930178054135, 27314.016519288165, 32731.72513513003, 32004.975290522587, 28634.864595510906, 21341.76363974421, 22562.116398306953, 29711.058631550004, 27800.062689764043, 28087.406250987864, 26981.30430620626, 28202.786396846637, 27827.50403108686, 25688.266522245318, 24664.83209607612, 25477.96863016895, 25955.773930783464, 25256.80949663001, 25512.625340681443], \"Total\": [583316.0, 143907.0, 124560.0, 130518.0, 259178.0, 124901.0, 116865.0, 88717.0, 203400.0, 181676.0, 54662.0, 58241.0, 83621.0, 82553.0, 55910.0, 80208.0, 43389.0, 88424.0, 630283.0, 404714.0, 64434.0, 101761.0, 346828.0, 402804.0, 76212.0, 33267.0, 142339.0, 140320.0, 459127.0, 52207.0, 9030.557226277302, 8689.781402162154, 8022.179932538363, 17344.688715597353, 6506.625111181274, 4835.628453912152, 4024.5425427967275, 3676.791778968017, 3547.2572697607075, 3070.968470401739, 3622.9860451146988, 6707.901710492828, 3909.9547903163707, 2837.806237470997, 2751.1176075692274, 2676.386100046128, 2818.8764013491013, 2330.628327027778, 2466.140286204899, 2260.8789184176376, 2114.4051663063883, 2103.444551653502, 2012.770312053441, 1943.0209110236738, 1925.0853487967356, 1874.2679176384559, 1871.2786608931096, 1874.2679455815646, 1834.411115178311, 1817.4719771244145, 12369.251859747523, 12233.257236553673, 7294.798362393227, 7495.087531319058, 7108.514421195645, 7062.724732925172, 52273.43215846135, 4923.31681353023, 6972.189604318159, 3951.806113375702, 3620.994679777239, 3282.211543762385, 21542.537014598107, 4077.37500730225, 15552.407468614312, 5757.402897414366, 3326.063359563198, 6716.783640092292, 9313.428200100487, 36351.17168075319, 28757.885243251847, 6082.892832822907, 9646.51423611496, 22855.925067977256, 20330.990223003075, 23482.52626607014, 22080.397115737887, 8037.965090933618, 17088.439612476224, 17177.951175850787, 262217.40477612545, 48564.506500032, 69136.77705176717, 150272.77326188463, 139810.01854255333, 91992.31046066683, 165022.73933315428, 149554.7834540993, 383434.914856085, 630283.9994260039, 196339.6138873134, 169725.25190737704, 93447.2278690331, 291439.3545563676, 249244.46796761657, 259635.44334618823, 287299.7285705807, 342875.2738095477, 282517.78984353045, 459127.02977778437, 396962.15463663277, 294229.52768972376, 326185.03965820995, 232109.41364931592, 294878.73862684343, 373431.6146632626, 338265.82782768836, 388232.4714951132, 346828.2382987342, 334047.20373955206, 218206.32580012432, 257054.6112507858, 240955.75628414517, 259873.36211394935, 338743.01776310574, 335735.5745382394, 367250.73024005897, 404714.1040886685, 268680.2797290191, 305277.4574203809, 256263.65772253962, 10542.440007220963, 8361.279922256468, 6556.457294846567, 6233.0266949511715, 5263.733128779497, 4858.446624525155, 8345.307928662507, 4484.1056550454, 4221.5678520789925, 3868.1899746842796, 3461.905236864716, 3332.133696112785, 3150.4535405416664, 2951.8032579307696, 2938.826108433216, 2616.3937484883627, 2609.406053834324, 2561.490407543661, 2540.527312766801, 3621.6233296272903, 2357.848907041571, 2327.9016367192894, 2318.9174530265973, 2262.0176258139495, 2021.4411608321946, 1915.6274332344226, 4105.769956463392, 4518.043606694966, 1754.9103832274511, 1649.0966674343904, 20632.522778361217, 8463.091429973896, 7930.019512702539, 10199.38648931495, 5319.625447461334, 5836.8136935883185, 4649.928863243519, 3712.439526251315, 3505.8063767948825, 33112.746856536745, 5888.598105618112, 4589.2257963370175, 56434.291894957496, 42835.95022757463, 7538.123502844498, 19258.655992610744, 8109.051068039526, 36705.4495952261, 4913.293578750705, 16159.25924802773, 108012.91429857338, 267813.05220698373, 329977.41598584765, 7293.575985099384, 15340.339414080418, 112100.2414545636, 234165.53880708676, 19984.8739721649, 142122.25400042906, 22021.290107626097, 50450.83247498804, 169627.2959747925, 262217.40477612545, 42038.305742324774, 68145.26902937953, 630283.9994260039, 198875.73248497793, 165022.73933315428, 342875.2738095477, 459127.02977778437, 268680.2797290191, 404714.1040886685, 93920.96503927608, 338743.01776310574, 180882.61994876195, 334047.20373955206, 373431.6146632626, 326185.03965820995, 338265.82782768836, 195151.56353789702, 383434.914856085, 346828.2382987342, 335735.5745382394, 222402.74990042305, 305277.4574203809, 247705.53556452895, 294229.52768972376, 296737.0385772376, 240955.75628414517, 287299.7285705807, 247516.3288328575, 294878.73862684343, 367250.73024005897, 291439.3545563676, 257103.9683577991, 402804.92957480944, 16602.44881966799, 8164.731219385854, 6548.72255743309, 8223.515200768597, 30084.483798886664, 5295.369342502695, 5221.642679888184, 5068.211527602335, 4602.9365245113795, 3875.632997507069, 3475.117912660326, 2812.574260392397, 2728.8845484225103, 2666.117247077396, 2704.9733220521125, 2614.309325332254, 2641.209694928694, 2570.4718510192865, 2490.7673537180062, 2486.782138081336, 5041.289578826094, 2695.0107646251768, 2333.3509840368865, 9969.121832506695, 1989.6253330892375, 1936.821100571446, 1838.186782734847, 1739.5524704281925, 1704.6817610452154, 1679.7740984165575, 16937.381919531046, 15651.018659577316, 22504.299731971976, 16225.160349771731, 20355.78590766671, 12812.601674683261, 11099.535043559601, 26298.198775419245, 5252.532860044242, 7224.569288511416, 7435.863399395776, 4494.169951670053, 5347.304844795205, 3468.314073607199, 2977.9753331038983, 64434.745215660914, 11733.158441423948, 4535.501335536647, 583316.6201074136, 22979.23923076462, 6639.511999999026, 5974.604522842551, 12905.157588724684, 54756.37246832924, 74826.44942718794, 32590.364189147167, 12619.364851317241, 259178.69138351537, 9877.505055362744, 50493.00642614413, 21712.76216407174, 43302.25805033254, 26329.004662497828, 67908.23497473271, 88424.81149632105, 27779.92297709141, 101341.8581467152, 234752.381737559, 402804.92957480944, 57524.999010411484, 73499.93904167856, 161242.99987529256, 138225.21458532743, 116865.50725715962, 218850.1516189438, 248573.5448426813, 124901.86168264251, 115889.17749405283, 52537.731745945784, 179145.134806959, 396962.15463663277, 367250.73024005897, 388232.4714951132, 173349.77532412705, 190804.97767589075, 228573.46351515624, 335735.5745382394, 283505.00768437254, 291957.52424146346, 373431.6146632626, 630283.9994260039, 296737.0385772376, 459127.02977778437, 334047.20373955206, 404714.1040886685, 383434.914856085, 43389.22312942269, 14906.967709545072, 14659.251418757785, 13671.457081481947, 12153.427104967073, 9665.00436492717, 7773.35242887849, 7143.825745099352, 5539.81157718338, 5336.1107237270935, 4867.292554142434, 4769.024934369238, 4123.120057511524, 4105.718483436024, 4028.9469122251858, 3942.962471934549, 3802.7252113941727, 3514.0655396089815, 3314.459436769622, 3273.5145726309893, 2907.0582627954223, 2753.5150918966265, 2666.5073189499244, 2667.5308813549063, 2499.657089507746, 2411.6256743075755, 2387.0586709001554, 2374.77529451136, 2276.507683468932, 2189.499913057078, 30928.166326481885, 26385.95213486205, 16086.38478129913, 7651.730567940727, 9878.47495296879, 12754.931758298919, 5121.342448568714, 143907.54138095008, 58241.78633124496, 7674.726326648029, 124560.36009014258, 15268.911487571133, 6427.946630784697, 8874.093543438326, 16747.274594999068, 8858.68063651583, 88717.65560999508, 25380.95752982147, 23929.732145845574, 16016.475152957575, 10047.206275498578, 18807.478222282574, 82553.37306533854, 10360.226061199837, 22856.23586850836, 28496.285837996427, 23281.2788663832, 83621.07697022754, 11310.868581918652, 15523.37933103711, 52207.12164463956, 17273.36636335218, 21319.84953175351, 101761.21029900326, 49661.670254748286, 71359.31110042498, 47962.92137575438, 122579.90109048803, 97467.88059691343, 63653.57669615498, 126592.18763329288, 388232.4714951132, 282517.78984353045, 287299.7285705807, 383434.914856085, 142339.63752326826, 142290.2362931515, 367250.73024005897, 326185.03965820995, 338743.01776310574, 257054.6112507858, 228573.46351515624, 338265.82782768836, 234165.53880708676, 459127.02977778437, 630283.9994260039, 247705.53556452895, 396962.15463663277, 296737.0385772376, 373431.6146632626, 334047.20373955206, 346828.2382987342, 259873.36211394935, 9288.193268579778, 6043.316567410951, 4839.13268452498, 4321.664321564388, 3772.097451910123, 3754.589045024444, 3230.3119078002164, 3234.202786397603, 3098.026757800999, 3057.173992490586, 3007.5671823416974, 2756.614368556229, 2755.6416835470604, 2436.6010448257375, 2361.70431728541, 2325.714970658654, 2319.8797433119403, 2165.2219661768445, 2118.5330938079455, 2121.451319932879, 2104.9155049293004, 2103.942822219073, 2096.1613632746203, 1846.1813423552558, 1824.7822644705902, 1818.9461543298862, 1769.3392243410701, 1738.2133933398522, 1789.7663346563245, 1709.0327769978153, 54662.687744859184, 33267.20473005145, 21390.824691736336, 23564.956286984227, 10629.154407662883, 9200.918670260011, 5851.2522981258435, 4928.994556205598, 3302.322517741276, 3140.014630590071, 3877.5661328341516, 2780.993888550372, 3759.906139376595, 4870.223945406837, 11583.552728149578, 10779.005024667524, 9246.275778395246, 9587.037183783614, 18342.702771182983, 11582.339809046794, 6559.161206722604, 32208.133243066975, 4134.932317166918, 23593.76757494571, 12286.98570730043, 5929.139265097109, 6775.404848290124, 7752.497932909934, 11516.53205439806, 8214.99059973074, 5320.594986409789, 23953.81263565079, 12532.76531385873, 18743.98278894356, 10966.609592485089, 41005.47665906864, 8694.412721255372, 46392.53210799649, 15857.630967310975, 80208.31126342984, 49921.12604445132, 76212.46798374238, 23601.08374483515, 203400.60868315576, 39537.32843879069, 58840.369028449, 83621.07697022754, 35087.79623816442, 346828.2382987342, 630283.9994260039, 404714.1040886685, 142339.63752326826, 338743.01776310574, 111903.59681734919, 47654.24511938593, 231536.19424375895, 85437.18291150195, 247705.53556452895, 459127.02977778437, 160311.57064879194, 342875.2738095477, 305277.4574203809, 157515.42264245154, 373431.6146632626, 335735.5745382394, 334047.20373955206, 326185.03965820995, 383434.914856085, 338265.82782768836, 261029.3533674664, 402804.92957480944, 247516.3288328575, 12427.810768544708, 3600.4472401817916, 6384.658819105628, 2888.369246640047, 2528.824942863382, 1871.8300632930705, 1547.3390972264451, 1678.5371265152562, 4138.253645575048, 1229.8584015838192, 1129.706851565667, 1017.5370266750671, 947.4309115673925, 872.3171958553705, 5657.665020328041, 808.220162610785, 783.1822573178558, 3540.345954746478, 1171.782353722003, 626.9456414941187, 601.9078326887403, 579.8744746362336, 535.8077653339514, 3038.478895070703, 3662.524744676174, 723.0898647776415, 461.69556893871265, 455.6877512232353, 629.959173493995, 515.7764490451478, 22996.173504486593, 1988.121475697778, 1482.227802439923, 11206.029278932521, 1145.720372970335, 14767.575371258321, 9353.412441968576, 5980.029973288343, 2147.1826547259293, 1062.5978671752705, 3684.513054651976, 2786.0327142812575, 19166.901210605312, 3140.392683834632, 4953.858326898953, 20468.452605327482, 1723.5421264831064, 13007.200375378037, 2168.197664818361, 55910.616872937906, 3368.925715273459, 3475.477943996851, 3398.327412601711, 4818.866875801099, 130518.37532162076, 6727.605995050965, 5026.204848460524, 27423.124720451404, 31344.177865210077, 181676.26314350523, 18619.493619563327, 124901.86168264251, 116865.50725715962, 14532.890908801124, 15805.004931084688, 140320.59275955986, 63547.02710782288, 58175.13694770093, 32160.717623495024, 92058.98701111149, 101122.12662088632, 630283.9994260039, 459127.02977778437, 404714.1040886685, 257054.6112507858, 31774.585792363672, 346828.2382987342, 59084.76847741881, 388232.4714951132, 396962.15463663277, 583316.6201074136, 170025.52016431154, 282517.78984353045, 291439.3545563676, 218850.1516189438, 93561.45122523078, 115323.5375784143, 338265.82782768836, 261029.3533674664, 329977.41598584765, 283505.00768437254, 373431.6146632626, 367250.73024005897, 236055.43543281272, 177551.54359614378, 249244.46796761657, 342875.2738095477, 259635.44334618823, 338743.01776310574], \"Category\": [\"Default\", \"Default\", \"Default\", \"Default\", \"Default\", \"Default\", \"Default\", \"Default\", \"Default\", \"Default\", \"Default\", \"Default\", \"Default\", \"Default\", \"Default\", \"Default\", \"Default\", \"Default\", \"Default\", \"Default\", \"Default\", \"Default\", \"Default\", \"Default\", \"Default\", \"Default\", \"Default\", \"Default\", \"Default\", \"Default\", \"Topic1\", \"Topic1\", \"Topic1\", \"Topic1\", \"Topic1\", \"Topic1\", \"Topic1\", \"Topic1\", \"Topic1\", \"Topic1\", \"Topic1\", \"Topic1\", \"Topic1\", \"Topic1\", \"Topic1\", \"Topic1\", \"Topic1\", \"Topic1\", \"Topic1\", \"Topic1\", \"Topic1\", \"Topic1\", \"Topic1\", \"Topic1\", \"Topic1\", \"Topic1\", \"Topic1\", \"Topic1\", \"Topic1\", \"Topic1\", \"Topic1\", \"Topic1\", \"Topic1\", \"Topic1\", \"Topic1\", \"Topic1\", \"Topic1\", \"Topic1\", \"Topic1\", \"Topic1\", \"Topic1\", \"Topic1\", \"Topic1\", \"Topic1\", \"Topic1\", \"Topic1\", \"Topic1\", \"Topic1\", \"Topic1\", \"Topic1\", \"Topic1\", \"Topic1\", \"Topic1\", \"Topic1\", \"Topic1\", \"Topic1\", \"Topic1\", \"Topic1\", \"Topic1\", \"Topic1\", \"Topic1\", \"Topic1\", \"Topic1\", \"Topic1\", \"Topic1\", \"Topic1\", \"Topic1\", \"Topic1\", \"Topic1\", \"Topic1\", \"Topic1\", \"Topic1\", \"Topic1\", \"Topic1\", \"Topic1\", \"Topic1\", \"Topic1\", \"Topic1\", \"Topic1\", \"Topic1\", \"Topic1\", \"Topic1\", \"Topic1\", \"Topic1\", \"Topic1\", \"Topic1\", \"Topic1\", \"Topic1\", \"Topic1\", \"Topic1\", \"Topic1\", \"Topic1\", \"Topic1\", \"Topic1\", \"Topic1\", \"Topic1\", \"Topic1\", \"Topic1\", \"Topic1\", \"Topic1\", \"Topic1\", \"Topic2\", \"Topic2\", \"Topic2\", \"Topic2\", \"Topic2\", \"Topic2\", \"Topic2\", \"Topic2\", \"Topic2\", \"Topic2\", \"Topic2\", \"Topic2\", \"Topic2\", \"Topic2\", \"Topic2\", \"Topic2\", \"Topic2\", \"Topic2\", \"Topic2\", \"Topic2\", \"Topic2\", \"Topic2\", \"Topic2\", \"Topic2\", \"Topic2\", \"Topic2\", \"Topic2\", \"Topic2\", \"Topic2\", \"Topic2\", \"Topic2\", \"Topic2\", \"Topic2\", \"Topic2\", \"Topic2\", \"Topic2\", \"Topic2\", \"Topic2\", \"Topic2\", \"Topic2\", \"Topic2\", \"Topic2\", \"Topic2\", \"Topic2\", \"Topic2\", \"Topic2\", \"Topic2\", \"Topic2\", \"Topic2\", \"Topic2\", \"Topic2\", \"Topic2\", \"Topic2\", \"Topic2\", \"Topic2\", \"Topic2\", \"Topic2\", \"Topic2\", \"Topic2\", \"Topic2\", \"Topic2\", \"Topic2\", \"Topic2\", \"Topic2\", \"Topic2\", \"Topic2\", \"Topic2\", \"Topic2\", \"Topic2\", \"Topic2\", \"Topic2\", \"Topic2\", \"Topic2\", \"Topic2\", \"Topic2\", \"Topic2\", \"Topic2\", \"Topic2\", \"Topic2\", \"Topic2\", \"Topic2\", \"Topic2\", \"Topic2\", \"Topic2\", \"Topic2\", \"Topic2\", \"Topic2\", \"Topic2\", \"Topic2\", \"Topic2\", \"Topic2\", \"Topic2\", \"Topic2\", \"Topic2\", \"Topic2\", \"Topic2\", \"Topic3\", \"Topic3\", \"Topic3\", \"Topic3\", \"Topic3\", \"Topic3\", \"Topic3\", \"Topic3\", \"Topic3\", \"Topic3\", \"Topic3\", \"Topic3\", \"Topic3\", \"Topic3\", \"Topic3\", \"Topic3\", \"Topic3\", \"Topic3\", \"Topic3\", \"Topic3\", \"Topic3\", \"Topic3\", \"Topic3\", \"Topic3\", \"Topic3\", \"Topic3\", \"Topic3\", \"Topic3\", \"Topic3\", \"Topic3\", \"Topic3\", \"Topic3\", \"Topic3\", \"Topic3\", \"Topic3\", \"Topic3\", \"Topic3\", \"Topic3\", \"Topic3\", \"Topic3\", \"Topic3\", \"Topic3\", \"Topic3\", \"Topic3\", \"Topic3\", \"Topic3\", \"Topic3\", \"Topic3\", \"Topic3\", \"Topic3\", \"Topic3\", \"Topic3\", \"Topic3\", \"Topic3\", \"Topic3\", \"Topic3\", \"Topic3\", \"Topic3\", \"Topic3\", \"Topic3\", \"Topic3\", \"Topic3\", \"Topic3\", \"Topic3\", \"Topic3\", \"Topic3\", \"Topic3\", \"Topic3\", \"Topic3\", \"Topic3\", \"Topic3\", \"Topic3\", \"Topic3\", \"Topic3\", \"Topic3\", \"Topic3\", \"Topic3\", \"Topic3\", \"Topic3\", \"Topic3\", \"Topic3\", \"Topic3\", \"Topic3\", \"Topic3\", \"Topic3\", \"Topic3\", \"Topic3\", \"Topic3\", \"Topic3\", \"Topic3\", \"Topic3\", \"Topic3\", \"Topic3\", \"Topic3\", \"Topic3\", \"Topic3\", \"Topic4\", \"Topic4\", \"Topic4\", \"Topic4\", \"Topic4\", \"Topic4\", \"Topic4\", \"Topic4\", \"Topic4\", \"Topic4\", \"Topic4\", \"Topic4\", \"Topic4\", \"Topic4\", \"Topic4\", \"Topic4\", \"Topic4\", \"Topic4\", \"Topic4\", \"Topic4\", \"Topic4\", \"Topic4\", \"Topic4\", \"Topic4\", \"Topic4\", \"Topic4\", \"Topic4\", \"Topic4\", \"Topic4\", \"Topic4\", \"Topic4\", \"Topic4\", \"Topic4\", \"Topic4\", \"Topic4\", \"Topic4\", \"Topic4\", \"Topic4\", \"Topic4\", \"Topic4\", \"Topic4\", \"Topic4\", \"Topic4\", \"Topic4\", \"Topic4\", \"Topic4\", \"Topic4\", \"Topic4\", \"Topic4\", \"Topic4\", \"Topic4\", \"Topic4\", \"Topic4\", \"Topic4\", \"Topic4\", \"Topic4\", \"Topic4\", \"Topic4\", \"Topic4\", \"Topic4\", \"Topic4\", \"Topic4\", \"Topic4\", \"Topic4\", \"Topic4\", \"Topic4\", \"Topic4\", \"Topic4\", \"Topic4\", \"Topic4\", \"Topic4\", \"Topic4\", \"Topic4\", \"Topic4\", \"Topic4\", \"Topic4\", \"Topic4\", \"Topic4\", \"Topic4\", \"Topic4\", \"Topic4\", \"Topic4\", \"Topic4\", \"Topic4\", \"Topic4\", \"Topic4\", \"Topic4\", \"Topic4\", \"Topic4\", \"Topic4\", \"Topic4\", \"Topic4\", \"Topic4\", \"Topic5\", \"Topic5\", \"Topic5\", \"Topic5\", \"Topic5\", \"Topic5\", \"Topic5\", \"Topic5\", \"Topic5\", \"Topic5\", \"Topic5\", \"Topic5\", \"Topic5\", \"Topic5\", \"Topic5\", \"Topic5\", \"Topic5\", \"Topic5\", \"Topic5\", \"Topic5\", \"Topic5\", \"Topic5\", \"Topic5\", \"Topic5\", \"Topic5\", \"Topic5\", \"Topic5\", \"Topic5\", \"Topic5\", \"Topic5\", \"Topic5\", \"Topic5\", \"Topic5\", \"Topic5\", \"Topic5\", \"Topic5\", \"Topic5\", \"Topic5\", \"Topic5\", \"Topic5\", \"Topic5\", \"Topic5\", \"Topic5\", \"Topic5\", \"Topic5\", \"Topic5\", \"Topic5\", \"Topic5\", \"Topic5\", \"Topic5\", \"Topic5\", \"Topic5\", \"Topic5\", \"Topic5\", \"Topic5\", \"Topic5\", \"Topic5\", \"Topic5\", \"Topic5\", \"Topic5\", \"Topic5\", \"Topic5\", \"Topic5\", \"Topic5\", \"Topic5\", \"Topic5\", \"Topic5\", \"Topic5\", \"Topic5\", \"Topic5\", \"Topic5\", \"Topic5\", \"Topic5\", \"Topic5\", \"Topic5\", \"Topic5\", \"Topic5\", \"Topic5\", \"Topic5\", \"Topic5\", \"Topic5\", \"Topic5\", \"Topic5\", \"Topic5\", \"Topic5\", \"Topic5\", \"Topic5\", \"Topic5\", \"Topic5\", \"Topic5\", \"Topic5\", \"Topic5\", \"Topic5\", \"Topic5\", \"Topic5\", \"Topic5\", \"Topic5\", \"Topic5\", \"Topic5\", \"Topic5\", \"Topic5\", \"Topic5\", \"Topic6\", \"Topic6\", \"Topic6\", \"Topic6\", \"Topic6\", \"Topic6\", \"Topic6\", \"Topic6\", \"Topic6\", \"Topic6\", \"Topic6\", \"Topic6\", \"Topic6\", \"Topic6\", \"Topic6\", \"Topic6\", \"Topic6\", \"Topic6\", \"Topic6\", \"Topic6\", \"Topic6\", \"Topic6\", \"Topic6\", \"Topic6\", \"Topic6\", \"Topic6\", \"Topic6\", \"Topic6\", \"Topic6\", \"Topic6\", \"Topic6\", \"Topic6\", \"Topic6\", \"Topic6\", \"Topic6\", \"Topic6\", \"Topic6\", \"Topic6\", \"Topic6\", \"Topic6\", \"Topic6\", \"Topic6\", \"Topic6\", \"Topic6\", \"Topic6\", \"Topic6\", \"Topic6\", \"Topic6\", \"Topic6\", \"Topic6\", \"Topic6\", \"Topic6\", \"Topic6\", \"Topic6\", \"Topic6\", \"Topic6\", \"Topic6\", \"Topic6\", \"Topic6\", \"Topic6\", \"Topic6\", \"Topic6\", \"Topic6\", \"Topic6\", \"Topic6\", \"Topic6\", \"Topic6\", \"Topic6\", \"Topic6\", \"Topic6\", \"Topic6\", \"Topic6\", \"Topic6\", \"Topic6\", \"Topic6\", \"Topic6\", \"Topic6\", \"Topic6\", \"Topic6\", \"Topic6\", \"Topic6\", \"Topic6\", \"Topic6\", \"Topic6\", \"Topic6\", \"Topic6\", \"Topic6\", \"Topic6\", \"Topic6\", \"Topic6\", \"Topic6\", \"Topic6\", \"Topic6\", \"Topic6\", \"Topic6\", \"Topic6\", \"Topic6\", \"Topic6\", \"Topic6\"], \"logprob\": [30.0, 29.0, 28.0, 27.0, 26.0, 25.0, 24.0, 23.0, 22.0, 21.0, 20.0, 19.0, 18.0, 17.0, 16.0, 15.0, 14.0, 13.0, 12.0, 11.0, 10.0, 9.0, 8.0, 7.0, 6.0, 5.0, 4.0, 3.0, 2.0, 1.0, -8.022, -8.0605, -8.1404, -7.3694, -8.3498, -8.6467, -8.8303, -8.9207, -8.9566, -9.1008, -8.9355, -8.3195, -8.8593, -9.1798, -9.2108, -9.2384, -9.1865, -9.3767, -9.3202, -9.4071, -9.4741, -9.4793, -9.5234, -9.5587, -9.568, -9.5947, -9.5963, -9.5947, -9.6162, -9.6255, -7.7084, -7.7233, -8.2359, -8.2094, -8.2628, -8.2692, -6.2881, -8.6291, -8.2852, -8.8489, -8.9363, -9.0346, -7.1719, -8.8203, -7.5036, -8.4804, -9.0232, -8.3388, -8.0229, -6.703, -6.9481, -8.443, -8.0072, -7.2692, -7.3785, -7.2559, -7.3199, -8.2194, -7.5614, -7.5628, -5.3305, -6.7472, -6.5249, -5.943, -6.0307, -6.3521, -5.935, -6.0203, -5.3739, -5.0799, -5.8982, -6.0034, -6.4338, -5.678, -5.7913, -5.7668, -5.7555, -5.6657, -5.7897, -5.4977, -5.5973, -5.7782, -5.725, -5.9355, -5.7996, -5.6684, -5.7241, -5.6559, -5.7316, -5.7638, -5.9798, -5.9051, -5.9442, -5.9151, -5.8273, -5.8436, -5.8538, -5.8354, -5.9192, -5.9031, -5.9329, -7.806, -8.0379, -8.2811, -8.3316, -8.5007, -8.5808, -8.0399, -8.661, -8.7214, -8.8088, -8.9198, -8.958, -9.0141, -9.0792, -9.0837, -9.1999, -9.2026, -9.2211, -9.2293, -8.8748, -9.304, -9.3168, -9.3206, -9.3455, -9.458, -9.5118, -8.7494, -8.6538, -9.5994, -9.6617, -7.1386, -8.0264, -8.0921, -7.8439, -8.491, -8.4002, -8.6257, -8.8533, -8.9104, -6.6974, -8.4001, -8.653, -6.2721, -6.5425, -8.1914, -7.3413, -8.1471, -6.8383, -8.6085, -7.5735, -5.9362, -5.1656, -5.0499, -8.2716, -7.6625, -6.0338, -5.4626, -7.4802, -5.9668, -7.414, -6.7996, -5.9285, -5.6365, -6.9735, -6.6419, -5.0928, -5.9335, -6.0836, -5.6057, -5.4212, -5.8191, -5.571, -6.5003, -5.7046, -6.1067, -5.7284, -5.6657, -5.7522, -5.7334, -6.0653, -5.6867, -5.7645, -5.782, -6.0034, -5.8464, -5.9598, -5.8875, -5.8912, -5.9735, -5.9221, -5.9697, -5.9314, -5.907, -5.945, -5.9667, -5.9557, -7.2927, -8.0025, -8.2231, -7.9954, -6.6984, -8.4355, -8.4496, -8.4794, -8.5757, -8.7477, -8.8568, -9.0684, -9.0986, -9.1219, -9.1074, -9.1415, -9.1313, -9.1585, -9.19, -9.1916, -8.4849, -9.1112, -9.2553, -7.8031, -9.4147, -9.4416, -9.4939, -9.5491, -9.5693, -9.5841, -7.274, -7.3523, -6.9933, -7.3178, -7.0961, -7.5549, -7.6981, -6.8492, -8.4441, -8.1301, -8.1024, -8.6025, -8.4311, -8.8611, -9.0122, -5.9713, -7.6613, -8.5989, -3.8726, -7.0118, -8.2277, -8.3305, -7.5936, -6.2274, -5.9389, -6.7232, -7.6211, -4.7847, -7.8537, -6.3375, -7.1293, -6.5206, -6.9757, -6.1396, -5.9283, -6.9743, -5.8884, -5.1915, -4.7559, -6.3718, -6.1811, -5.5832, -5.7095, -5.898, -5.4393, -5.3459, -5.8709, -5.9277, -6.4975, -5.6607, -5.1551, -5.3009, -5.2773, -5.8365, -5.812, -5.7168, -5.5365, -5.633, -5.6278, -5.6251, -5.48, -5.7775, -5.6759, -5.8052, -5.7821, -5.8066, -5.712, -6.7804, -6.7972, -6.8669, -6.9847, -7.2138, -7.4316, -7.5161, -7.7704, -7.8079, -7.8998, -7.9202, -8.0658, -8.07, -8.0889, -8.1105, -8.1467, -8.2257, -8.2842, -8.2966, -8.4153, -8.4696, -8.5017, -8.5014, -8.5664, -8.6022, -8.6125, -8.6176, -8.6599, -8.6989, -6.0548, -6.2156, -6.7085, -7.4495, -7.2012, -6.9502, -7.8551, -4.5605, -5.4492, -7.4562, -4.7348, -6.7899, -7.6389, -7.3274, -6.7221, -7.3374, -5.1971, -6.3634, -6.4267, -6.8039, -7.2342, -6.6671, -5.3898, -7.2184, -6.5561, -6.3942, -6.6012, -5.6493, -7.1525, -6.9191, -6.023, -6.8568, -6.7141, -5.6794, -6.1833, -6.0564, -6.2906, -5.8791, -5.9882, -6.2255, -5.9379, -5.5018, -5.6433, -5.6371, -5.6153, -5.9827, -6.0097, -5.7168, -5.7585, -5.7607, -5.8512, -5.8858, -5.815, -5.9006, -5.7511, -5.7049, -5.8933, -5.81, -5.8631, -5.8308, -5.8996, -5.9008, -5.9439, -7.1963, -7.6261, -7.8484, -7.9615, -8.0975, -8.1022, -8.2526, -8.2514, -8.2944, -8.3077, -8.3241, -8.4112, -8.4116, -8.5347, -8.5659, -8.5813, -8.5838, -8.6528, -8.6746, -8.6732, -8.681, -8.6815, -8.6852, -8.8123, -8.8239, -8.8271, -8.8548, -8.8725, -8.8433, -8.8895, -5.4243, -5.9257, -6.3647, -6.2694, -7.0635, -7.2069, -7.662, -7.8331, -8.2309, -8.2827, -8.0742, -8.4034, -8.1055, -7.8495, -6.9924, -7.0636, -7.2158, -7.1864, -6.5511, -7.0082, -7.5634, -6.0322, -8.0153, -6.3545, -6.9863, -7.6758, -7.5506, -7.4352, -7.0712, -7.3831, -7.783, -6.415, -7.0129, -6.6573, -7.1407, -6.0538, -7.3655, -5.9979, -6.8827, -5.5985, -6.0019, -5.6806, -6.5836, -4.9708, -6.2161, -6.0467, -5.976, -6.4725, -5.3132, -5.0681, -5.3143, -5.8819, -5.5149, -6.0362, -6.4234, -5.8285, -6.2336, -5.8483, -5.6403, -6.0252, -5.8094, -5.9091, -6.0872, -5.8965, -5.9306, -5.9429, -5.955, -5.9361, -5.9709, -6.0148, -5.9925, -6.0283, -6.6659, -7.905, -7.3321, -8.1254, -8.2584, -8.5594, -8.7498, -8.6685, -7.7661, -8.9796, -9.0646, -9.1692, -9.2407, -9.3234, -7.4538, -9.3998, -9.4313, -7.9227, -9.0285, -9.6541, -9.6948, -9.7322, -9.8113, -8.076, -7.8893, -9.5118, -9.9605, -9.9737, -9.6499, -9.8499, -6.066, -8.5017, -8.7945, -6.7945, -9.0523, -6.5216, -6.9739, -7.4171, -8.4313, -9.128, -7.8976, -8.1749, -6.2876, -8.0648, -7.6239, -6.2512, -8.6533, -6.6936, -8.4322, -5.344, -8.0131, -7.984, -8.0103, -7.7191, -4.8268, -7.459, -7.7098, -6.3184, -6.2958, -5.0522, -6.7437, -5.366, -5.4249, -6.9824, -6.9267, -5.5051, -6.0469, -6.1205, -6.5023, -5.8884, -5.8408, -4.8453, -5.0491, -5.1309, -5.4489, -6.5867, -5.415, -6.3031, -5.4667, -5.4662, -5.3515, -5.8784, -5.6975, -5.7199, -5.8312, -6.1251, -6.0695, -5.7943, -5.8608, -5.8505, -5.8907, -5.8464, -5.8598, -5.9398, -5.9804, -5.948, -5.9294, -5.9567, -5.9466], \"loglift\": [30.0, 29.0, 28.0, 27.0, 26.0, 25.0, 24.0, 23.0, 22.0, 21.0, 20.0, 19.0, 18.0, 17.0, 16.0, 15.0, 14.0, 13.0, 12.0, 11.0, 10.0, 9.0, 8.0, 7.0, 6.0, 5.0, 4.0, 3.0, 2.0, 1.0, 1.4132, 1.4132, 1.4132, 1.4131, 1.4131, 1.4131, 1.4131, 1.413, 1.413, 1.413, 1.413, 1.413, 1.413, 1.413, 1.413, 1.413, 1.4129, 1.4129, 1.4129, 1.4129, 1.4129, 1.4129, 1.4129, 1.4128, 1.4128, 1.4128, 1.4128, 1.4128, 1.4128, 1.4128, 1.4122, 1.4083, 1.4128, 1.4121, 1.4117, 1.4117, 1.3911, 1.4127, 1.4087, 1.4127, 1.4127, 1.4127, 1.3938, 1.4101, 1.3879, 1.4049, 1.4108, 1.3923, 1.3814, 1.3395, 1.3287, 1.3873, 1.362, 1.2374, 1.2451, 1.2237, 1.2212, 1.3322, 1.2359, 1.2294, 0.7361, 1.0057, 0.8748, 0.6803, 0.6648, 0.7619, 0.5947, 0.6078, 0.3127, 0.1097, 0.4577, 0.4982, 0.6646, 0.2829, 0.326, 0.3097, 0.2198, 0.1327, 0.2024, 0.0087, 0.0546, 0.1732, 0.1233, 0.2531, 0.1496, 0.0446, 0.0878, 0.0183, 0.0553, 0.0607, 0.2705, 0.1814, 0.207, 0.1605, -0.0168, -0.0242, -0.124, -0.2028, 0.123, 0.0115, 0.1567, 1.4743, 1.4743, 1.4743, 1.4743, 1.4742, 1.4742, 1.4742, 1.4742, 1.4742, 1.4742, 1.4742, 1.4742, 1.4741, 1.4741, 1.4741, 1.4741, 1.4741, 1.4741, 1.4741, 1.4741, 1.474, 1.474, 1.474, 1.474, 1.474, 1.474, 1.474, 1.4739, 1.4739, 1.4739, 1.4703, 1.4737, 1.473, 1.4696, 1.4733, 1.4713, 1.4732, 1.4707, 1.471, 1.4385, 1.4627, 1.459, 1.3306, 1.3359, 1.4244, 1.3365, 1.3957, 1.1945, 1.4353, 1.2798, 1.0173, 0.8799, 0.7869, 1.3772, 1.2428, 0.8826, 0.7172, 1.1606, 0.7123, 1.1298, 0.9151, 0.5737, 0.4301, 0.9237, 0.7723, 0.0968, 0.4096, 0.4461, 0.1927, 0.0852, 0.2231, 0.0616, 0.593, 0.1059, 0.3312, 0.0961, 0.0474, 0.0961, 0.0786, 0.2967, -0.0001, 0.0224, 0.0375, 0.2279, 0.0682, 0.1637, 0.0639, 0.0517, 0.1777, 0.0531, 0.1546, 0.0178, -0.1773, 0.0159, 0.1196, -0.3183, 1.5335, 1.5335, 1.5334, 1.5334, 1.5334, 1.5334, 1.5334, 1.5334, 1.5334, 1.5333, 1.5333, 1.5333, 1.5333, 1.5332, 1.5332, 1.5332, 1.5332, 1.5332, 1.5332, 1.5332, 1.5332, 1.5332, 1.5332, 1.5332, 1.5331, 1.5331, 1.5331, 1.5331, 1.5331, 1.5331, 1.5323, 1.533, 1.5288, 1.5314, 1.5263, 1.5305, 1.5307, 1.5171, 1.5329, 1.5282, 1.527, 1.5305, 1.5281, 1.531, 1.5324, 1.4988, 1.512, 1.5249, 1.3944, 1.4894, 1.5151, 1.5178, 1.4845, 1.4055, 1.3817, 1.4286, 1.4795, 1.2935, 1.4918, 1.3765, 1.4286, 1.347, 1.3894, 1.278, 1.2253, 1.3371, 1.1289, 0.9858, 0.8815, 1.2117, 1.1574, 0.9697, 0.9974, 0.9768, 0.8081, 0.7741, 0.9374, 0.9554, 1.1768, 0.7869, 0.4968, 0.4288, 0.3968, 0.644, 0.5725, 0.4871, 0.283, 0.3556, 0.3314, 0.0879, -0.2904, 0.1654, -0.1694, 0.0193, -0.1495, -0.1199, 2.1536, 2.1535, 2.1535, 2.1535, 2.1535, 2.1535, 2.1535, 2.1535, 2.1534, 2.1534, 2.1534, 2.1534, 2.1534, 2.1534, 2.1534, 2.1534, 2.1534, 2.1533, 2.1533, 2.1533, 2.1533, 2.1533, 2.1533, 2.1533, 2.1533, 2.1532, 2.1532, 2.1532, 2.1532, 2.1532, 2.1493, 2.1473, 2.1493, 2.1514, 2.1442, 2.1397, 2.1473, 2.1061, 2.122, 2.1416, 2.0762, 2.1201, 2.1362, 2.1252, 2.0955, 2.117, 1.9532, 2.0384, 2.034, 2.0582, 2.0943, 2.0344, 1.8326, 2.0794, 1.9504, 1.8918, 1.8869, 1.5602, 2.0576, 1.9744, 1.6576, 1.9298, 1.8621, 1.3338, 1.5473, 1.3117, 1.4748, 0.9479, 1.068, 1.2569, 0.8569, 0.1723, 0.3488, 0.3382, 0.0713, 0.6949, 0.6682, 0.0129, 0.0898, 0.0498, 0.2353, 0.3182, -0.0031, 0.2792, -0.2446, -0.5152, 0.2303, -0.1581, 0.0798, -0.1178, -0.0751, -0.1138, 0.1316, 2.2108, 2.2107, 2.2107, 2.2107, 2.2106, 2.2106, 2.2106, 2.2106, 2.2106, 2.2106, 2.2106, 2.2106, 2.2106, 2.2105, 2.2105, 2.2105, 2.2105, 2.2105, 2.2105, 2.2105, 2.2105, 2.2105, 2.2105, 2.2104, 2.2104, 2.2104, 2.2104, 2.2104, 2.2104, 2.2104, 2.2103, 2.2055, 2.2081, 2.2066, 2.2087, 2.2095, 2.2071, 2.2075, 2.2102, 2.2088, 2.2064, 2.2096, 2.2059, 2.2031, 2.1937, 2.1946, 2.1958, 2.1889, 2.1755, 2.1781, 2.1915, 2.1314, 2.201, 2.1203, 2.1409, 2.1801, 2.1719, 2.1526, 2.1208, 2.1467, 2.1812, 2.0446, 2.0945, 2.0476, 2.1003, 1.8683, 2.1076, 1.8007, 1.9894, 1.6526, 1.7235, 1.6216, 1.8909, 1.3498, 1.7424, 1.5143, 1.2335, 1.6055, 0.4737, 0.1215, 0.3183, 0.7956, 0.2956, 0.882, 1.3484, 0.3626, 0.9544, 0.2752, -0.1339, 0.5334, -0.011, 0.0054, 0.4891, -0.1834, -0.1111, -0.1184, -0.1066, -0.2495, -0.159, 0.0563, -0.3552, 0.096, 2.4499, 2.4497, 2.4497, 2.4497, 2.4496, 2.4495, 2.4494, 2.4494, 2.4494, 2.4493, 2.4492, 2.4491, 2.4491, 2.449, 2.449, 2.4489, 2.4489, 2.4488, 2.4488, 2.4486, 2.4486, 2.4485, 2.4484, 2.4484, 2.4484, 2.4482, 2.4482, 2.448, 2.448, 2.448, 2.4345, 2.4469, 2.4478, 2.4248, 2.4474, 2.4217, 2.4261, 2.4302, 2.4404, 2.4471, 2.4341, 2.4363, 2.395, 2.4266, 2.4117, 2.3657, 2.4381, 2.3766, 2.4297, 2.268, 2.4081, 2.406, 2.4022, 2.3441, 1.9375, 2.2705, 2.3113, 2.006, 1.8949, 1.3813, 1.9678, 1.4423, 1.4498, 1.977, 1.9488, 1.1868, 1.4371, 1.4518, 1.6628, 1.2249, 1.1786, 0.3443, 0.4574, 0.5017, 0.6376, 1.5904, 0.372, 1.2537, 0.2075, 0.1857, -0.0845, 0.6214, 0.2946, 0.241, 0.4162, 0.972, 0.8185, 0.0177, 0.2104, -0.0137, 0.0979, -0.1333, -0.1301, 0.2319, 0.4761, 0.1693, -0.131, 0.1198, -0.1361]}, \"token.table\": {\"Topic\": [1, 5, 1, 2, 3, 1, 2, 3, 4, 5, 6, 5, 1, 2, 3, 4, 5, 6, 2, 6, 1, 2, 3, 4, 5, 6, 1, 2, 1, 2, 3, 4, 5, 1, 2, 3, 6, 1, 2, 3, 4, 6, 3, 3, 3, 1, 2, 3, 4, 5, 6, 3, 4, 1, 2, 4, 5, 5, 5, 1, 3, 4, 6, 1, 2, 4, 6, 3, 1, 2, 3, 4, 5, 6, 1, 2, 3, 4, 5, 6, 1, 6, 1, 2, 1, 2, 3, 4, 6, 1, 2, 3, 4, 5, 6, 2, 3, 2, 1, 2, 3, 5, 1, 1, 2, 3, 1, 2, 3, 4, 5, 3, 6, 3, 4, 5, 6, 1, 2, 3, 4, 5, 6, 1, 2, 3, 4, 5, 6, 1, 2, 3, 4, 5, 6, 1, 2, 3, 4, 5, 6, 2, 3, 5, 6, 3, 6, 1, 1, 1, 2, 3, 4, 5, 6, 1, 2, 3, 6, 5, 1, 2, 4, 5, 2, 4, 6, 1, 2, 3, 5, 6, 5, 1, 3, 6, 6, 1, 1, 2, 3, 6, 1, 2, 3, 4, 5, 6, 1, 2, 3, 4, 5, 6, 1, 2, 3, 4, 5, 6, 6, 1, 6, 1, 2, 3, 5, 1, 2, 3, 4, 6, 1, 2, 5, 6, 6, 1, 2, 3, 4, 5, 6, 5, 2, 3, 4, 1, 2, 3, 4, 5, 6, 2, 3, 5, 6, 1, 2, 1, 1, 4, 6, 1, 6, 4, 4, 2, 5, 1, 2, 3, 4, 1, 3, 4, 4, 2, 1, 2, 3, 4, 5, 6, 2, 5, 1, 2, 3, 4, 5, 6, 1, 6, 1, 2, 3, 4, 5, 6, 1, 2, 4, 5, 1, 2, 5, 1, 2, 3, 4, 5, 6, 1, 2, 3, 4, 5, 6, 1, 2, 3, 4, 5, 6, 1, 2, 3, 4, 5, 6, 1, 2, 3, 4, 5, 6, 1, 2, 3, 4, 5, 6, 3, 1, 2, 3, 4, 5, 6, 1, 2, 3, 4, 5, 6, 1, 2, 3, 4, 5, 6, 4, 1, 2, 3, 4, 5, 6, 3, 1, 2, 3, 4, 5, 6, 1, 2, 3, 4, 5, 6, 1, 2, 3, 4, 5, 6, 1, 2, 3, 4, 5, 6, 5, 1, 1, 2, 3, 4, 5, 6, 1, 2, 3, 4, 5, 6, 4, 5, 1, 2, 3, 4, 5, 6, 3, 1, 2, 3, 4, 5, 6, 1, 2, 3, 4, 5, 6, 1, 2, 3, 4, 5, 6, 1, 2, 3, 4, 5, 6, 2, 1, 2, 3, 5, 1, 2, 5, 6, 1, 2, 3, 4, 5, 6, 1, 2, 3, 4, 5, 5, 1, 2, 3, 4, 5, 6, 1, 2, 3, 4, 5, 6, 1, 2, 3, 4, 5, 6, 1, 3, 4, 6, 5, 1, 2, 3, 4, 5, 6, 1, 2, 4, 5, 4, 1, 2, 3, 4, 5, 6, 1, 1, 3, 4, 5, 6, 1, 2, 3, 4, 5, 1, 2, 3, 4, 5, 6, 1, 2, 3, 4, 5, 6, 1, 2, 4, 5, 6, 1, 2, 3, 4, 5, 6, 1, 2, 3, 4, 5, 6, 4, 4, 1, 1, 2, 3, 4, 5, 6, 1, 2, 4, 5, 6, 6, 1, 2, 3, 4, 5, 6, 1, 2, 3, 4, 5, 6, 1, 1, 2, 3, 4, 5, 6, 1, 2, 3, 4, 5, 6, 2, 6, 1, 2, 3, 4, 5, 6, 1, 2, 3, 4, 5, 6, 1, 2, 3, 4, 5, 6, 1, 1, 2, 3, 4, 5, 6, 1, 2, 3, 4, 5, 6, 1, 2, 6, 1, 2, 5, 2, 3, 5, 6, 1, 2, 3, 4, 5, 6, 4, 1, 6, 3, 3, 1, 2, 3, 4, 5, 6, 3, 1, 2, 3, 4, 5, 6, 1, 2, 4, 6, 1, 2, 3, 4, 5, 6, 1, 1, 2, 3, 4, 5, 6, 1, 2, 3, 4, 5, 6, 3, 6, 1, 2, 3, 4, 5, 6, 1, 2, 3, 4, 5, 6, 2, 6, 1, 2, 3, 4, 5, 6, 1, 2, 3, 4, 5, 6, 5, 1, 2, 3, 4, 5, 6, 5, 4, 6, 1, 2, 3, 4, 5, 6, 1, 3, 4, 6, 1, 1, 2, 1, 4, 1, 2, 2, 3, 6, 1, 2, 3, 4, 5, 6, 6, 1, 2, 3, 4, 5, 6, 1, 2, 3, 4, 6, 1, 2, 3, 4, 5, 6, 3, 6, 1, 2, 3, 4, 5, 6, 1, 2, 3, 4, 5, 6, 1, 2, 3, 4, 5, 6, 1, 2, 5, 6, 1, 2, 3, 4, 5, 6, 1, 5, 1, 2, 6, 1, 2, 3, 4, 5, 6, 1, 2, 3, 4, 5, 6, 2, 1, 2, 3, 4, 5, 6, 2, 3, 5, 6, 1, 2, 3, 4, 5, 6, 1, 2, 3, 4, 5, 6, 5, 1, 2, 3, 4, 5, 6, 1, 2, 5, 1, 2, 3, 4, 5, 1, 2, 3, 4, 5, 6, 2, 1, 2, 3, 4, 5, 6, 1, 2, 4, 6, 1, 2, 5, 1, 2, 3, 4, 5, 6, 1, 2, 1, 2, 3, 4, 5, 6, 1, 2, 3, 4, 5, 6, 1, 2, 3, 4, 5, 6, 1, 2, 3, 4, 6, 4, 1, 2, 3, 4, 5, 6, 1, 2, 3, 4, 5, 6, 1, 2, 3, 4, 5, 6, 4, 1, 1, 2, 3, 4, 5, 6, 2, 6, 1, 2, 3, 4, 5, 6, 1, 2, 3, 4, 5, 6, 3, 1, 5, 1, 1, 2, 3, 4, 5, 6, 3, 1, 2, 3, 4, 5, 1, 2, 3, 4, 5, 6, 2, 5, 6, 1, 2, 3, 4, 6, 1, 5, 1, 5, 4, 6, 2, 1, 2, 3, 4, 5, 1, 2, 3, 4, 5, 6, 1, 2, 4, 1, 2, 3, 4, 5, 4, 1, 2, 3, 4, 5, 6, 1, 2, 3, 4, 5, 1, 2, 3, 4, 5, 6, 1, 2, 3, 4, 5, 6, 1, 3, 4, 5, 6, 1, 2, 3, 6, 4, 3, 6, 3, 6, 1, 2, 3, 4, 5, 6, 1, 2, 3, 4, 5, 6, 5, 1, 2, 3, 4, 5, 6, 1, 2, 3, 4, 5, 6, 4, 3, 1, 3, 4, 6, 3, 1, 2, 3, 4, 5, 6, 3, 4, 6, 4, 1, 2, 1, 2, 3, 4, 5, 6, 5, 5, 4, 4, 1, 2, 3, 4, 5, 1, 2, 3, 4, 5, 6, 1, 3, 4, 4, 1, 2, 3, 4, 5, 6, 2, 2, 3, 4, 3, 4, 3, 5, 5, 1, 2, 3, 4, 5, 6, 1, 2, 3, 4, 5, 6, 1, 2, 3, 4, 5, 6, 1, 2, 3, 4, 5, 6, 2, 3, 5, 6, 1, 4, 5, 1, 2, 3, 4, 5, 6, 1, 2, 5, 1, 2, 3, 4, 5, 6, 1, 1, 2, 3, 4, 5, 6, 4, 2, 5, 1, 2, 3, 5, 6, 1, 2, 5, 6, 1, 2, 3, 4, 5, 6, 1, 2, 3, 5, 6, 1, 2, 3, 4, 5, 6, 1, 2, 3, 4, 5, 2, 1, 2, 3, 4, 5, 6, 1, 2, 3, 4, 5, 6, 1, 2, 3, 4, 5, 6, 5, 5, 6, 1, 3, 4, 1, 2, 3, 4, 5, 6, 1, 2, 3, 4, 5, 6, 4, 4, 5, 1, 2, 3, 4, 5, 6, 1, 2, 3, 4, 5, 6, 1, 2, 3, 4, 5, 6, 1, 2, 3, 4, 5, 6, 2, 6, 1, 2, 3, 4, 5, 6, 1, 2, 3, 4, 5, 6, 1, 2, 3, 4, 5, 6, 1, 2, 3, 4, 5, 6, 1, 2, 3, 4, 5, 6, 3, 5, 1, 2, 3, 4, 5, 6, 4, 4, 2, 4, 5, 2, 1, 2, 1, 2, 3, 4, 5, 6, 1, 2, 3, 4, 5, 6, 1, 2, 3, 4, 5, 1, 2, 3, 4, 5, 6, 1, 2, 3, 4, 5, 6, 1, 2, 3, 4, 6, 1, 2, 3, 4, 5, 6, 1, 2, 3, 4, 5, 6, 1, 2, 3, 4, 1, 3, 4, 6, 3, 4, 6, 2, 3, 5, 6, 1, 2, 3, 4, 5, 6, 1, 2, 3, 4, 5, 6, 1, 2, 3, 4, 5, 6, 1, 2, 3, 4, 5, 6, 1, 2, 3, 4, 5, 6, 1, 2, 3, 4, 6, 1, 2, 3, 6, 1, 2, 3, 4, 5, 6, 1, 2, 3, 4, 5, 6, 1, 2, 3, 4, 5, 6, 1, 2, 3, 4, 5, 6, 1, 2, 3, 4, 5, 6, 1, 2, 3, 4, 5, 6, 3, 4, 5, 6, 3, 2, 6, 2, 1, 2, 3, 4, 5, 6, 3, 4, 4, 1, 5, 2, 1, 2, 3, 4, 5, 6, 1, 2, 3, 4, 5, 6, 1, 6, 1, 2, 1, 2, 3, 4, 5, 6, 1, 2, 3, 4, 5, 6, 1, 2, 3, 4, 5, 6, 1, 2, 3, 4, 5, 6, 1, 2, 3, 4, 5, 6, 1, 2, 3, 4, 5, 6, 6, 1, 2, 3, 4, 5, 6, 4, 6, 4, 6, 1, 2, 3, 4, 5, 6, 1, 2, 3, 4, 5, 6, 6, 1, 2, 1, 2, 1, 2, 3, 4, 5, 6, 1, 2, 3, 4, 5, 6, 1, 2, 3, 4, 5, 6, 1, 2, 3, 4, 5, 6, 1, 2, 3, 4, 6, 2, 3, 6, 1, 2, 3, 4, 5, 6, 1, 3, 4, 5, 6, 1, 2, 3, 4, 5, 6, 1, 2, 3, 4, 5, 6, 2, 5, 2, 1, 2, 3, 4, 5, 6, 2, 1, 3, 3, 3, 6, 1, 2, 3, 4, 5, 6, 1, 2, 3, 4, 5, 6, 1, 1, 1, 2, 3, 5, 6, 1, 2, 3, 4, 6, 5, 2, 5, 5, 2, 3, 5, 1, 2, 3, 4, 5, 6, 5, 1, 2, 3, 4, 5, 6, 1, 1, 2, 3, 4, 5, 6, 2, 6, 1, 2, 3, 4, 5, 6, 1, 2, 3, 4, 5, 6, 1, 2, 5, 6, 2, 2, 1, 2, 2, 3, 1, 2, 3, 4, 5, 6, 3, 5, 1, 2, 3, 4, 5, 6, 3, 1, 2, 3, 4, 5, 6, 6, 1, 2, 3, 4, 5, 6, 5, 5, 4, 5, 1, 2, 1, 2, 3, 5, 6, 1, 2, 3, 4, 5, 6, 1, 2, 3, 4, 5, 6, 4, 5, 2, 1, 2, 3, 4, 5, 6, 1, 2, 2, 2, 1, 6, 6, 5, 6, 1, 3, 1, 2, 3, 4, 6, 1, 2, 3, 4, 5, 6, 1, 2, 4, 2, 3], \"Freq\": [0.10979220990266365, 0.8901467250538632, 0.9997846549340798, 0.9966323363226705, 0.0031376518888235187, 0.2656904499551801, 0.24762477646033057, 0.1896437497454748, 0.1157107717659802, 0.09349747269212988, 0.08783328836613877, 0.9998462810817876, 0.21334893303115404, 0.22501017678968913, 0.182373214425149, 0.12144537527638812, 0.15750453236528048, 0.10031692917759048, 0.9998469226878697, 0.9984946015922493, 0.2571935908032018, 0.23410723532281752, 0.1039188740132396, 0.10357864796769378, 0.17602372949637304, 0.12518011858828063, 0.999903926971265, 0.999844388406424, 0.02542827400118821, 0.9647040198265513, 0.00274818638255122, 0.007066764983703137, 6.039970071541143e-05, 0.0028869350047477133, 0.9883506898606877, 0.005604050303333797, 0.0030567547109093436, 0.0013726315807981821, 0.995157896078682, 0.0004902255645707793, 0.0012745864678840263, 0.0017648120324548055, 0.9995391651667405, 0.9998896643693861, 0.9994991696967276, 0.15644256342168267, 0.17129295788658702, 0.5609410766879936, 0.04323095657708936, 0.0371130427620881, 0.030977871080189786, 0.999586540060805, 0.00030092921426818015, 0.9743719251501984, 0.016439546569093952, 0.0029591183824369113, 0.006247027696255701, 0.9997771293064287, 0.9996685768454344, 0.006764547213075459, 0.11519625989325562, 0.0073614190259938825, 0.8706370177770062, 0.9984815020646104, 0.0007079420746345791, 0.00042476524478074745, 0.00028317682985383165, 0.9998366724848622, 0.059007107829682486, 0.06306894503339623, 0.2171468366186213, 0.09665133128669479, 0.49828035554679173, 0.06585614713134207, 0.29793168085668953, 0.21844642078709525, 0.10970282620844922, 0.1645029151110792, 0.09355871010685411, 0.1158581907996954, 0.00048329565350315346, 0.9994554114445214, 0.999684636813737, 0.9997534279674797, 0.8452613380609661, 0.0925188581258468, 0.0019182538367400455, 0.007623829351146335, 0.052727387512444324, 0.2182177619167358, 0.13907142339771245, 0.4108168001189685, 0.1059707170987215, 0.05180854710199334, 0.07411604644988426, 0.0005711530189217572, 0.9993273987734345, 0.9995501247194821, 0.0006695003802690042, 0.005858128327353786, 0.9843329340905034, 0.009038255133631556, 0.9998557382859965, 0.9975757047622037, 0.0006013114555528654, 0.0015032786388821634, 0.9793377831520585, 0.005657469711124692, 0.0072951583117134185, 0.00044664234561510725, 0.007444039093585121, 0.9998509597533187, 0.0001329589042225158, 0.9970695474778032, 0.0006675314979766591, 0.0022251049932555302, 0.00022251049932555303, 0.07867930766663714, 0.05221494069500786, 0.7866001595722495, 0.04131512487712585, 0.0075160499869855405, 0.03367560794990236, 0.005943998051332584, 0.016714584598655855, 0.9658453648214935, 0.0037091789406487924, 0.004469638221367583, 0.003305669934553108, 0.04302695547194432, 0.03407822534407814, 0.8798062732856187, 0.02019856228861223, 0.004748305782133074, 0.018171400973932342, 0.2544481941778877, 0.24001717176737367, 0.2355986920907457, 0.10317283938249885, 0.09123758852266192, 0.07552386807269039, 0.002286217361306205, 0.993563168548838, 0.0034965677290565494, 0.000806900245166896, 0.9994237653296901, 0.0005111488379131518, 0.9994745753800787, 0.9997558052797093, 0.40050610758319016, 0.18454531454808584, 0.18689028087176052, 0.1665397439823828, 0.050340181581599044, 0.011182779101343047, 0.9221239351188932, 0.04802210455422191, 0.0021149631539424158, 0.027618930598542132, 0.9993601157545289, 0.0008467277503760434, 0.0011289703338347246, 0.00018816172230578742, 0.9978216133875908, 0.9987249561406444, 0.0010752852671626232, 0.9984907401583889, 0.8320549903584237, 0.1492028923451088, 0.004016777047137147, 0.004540704488068079, 0.010129263857998023, 0.9993956950318825, 0.0007480403897102289, 0.9945196981197493, 0.004675252435688931, 0.9984919587350657, 0.9999100780415535, 0.9997403111957955, 0.9998560396032412, 0.002023980386187362, 0.9978223303903694, 0.0026762083039226702, 0.0008632930012653775, 0.0012086102017715285, 0.0012086102017715285, 0.9830317405408853, 0.011050150416196832, 0.02619335797205428, 0.03996818214829642, 0.016868861606598066, 0.00038145666949593614, 0.9134191871452133, 0.0031788055791328014, 0.13749689848518404, 0.07527875065666108, 0.06554339333384647, 0.07664089941787794, 0.6142289333116547, 0.030808599922816586, 0.9998757820481855, 0.9985208694007437, 0.0014067636931540486, 0.010844170475181093, 0.0018073617458635154, 0.9816986549615327, 0.005572698716412506, 0.00026936465710183927, 0.9963798666197033, 0.003232375885222071, 0.9997344408358331, 0.9997808513808945, 0.001465670149984453, 0.04211358897621995, 0.037228021809605105, 0.9191706067269166, 0.9995451789020905, 0.3622391830758712, 0.08626390971424526, 0.053690707760854585, 0.008686187187570847, 0.06571289437553597, 0.423357210315953, 0.9996159876757196, 0.9998495071742967, 0.9786793604916505, 0.021221907233512232, 0.2475086065609863, 0.202214346601914, 0.30054029341415606, 0.10995092551014671, 0.07431560483454264, 0.06546842746957865, 0.0005463371279098979, 0.9969091621133036, 0.00023414448338995622, 0.0022633966727695766, 0.996719701455398, 0.0029430699846123955, 0.9995376231387657, 0.0029854691344115797, 0.012484689107539334, 0.9841191892160353, 0.9998083781136914, 0.9984924344397138, 0.9997405591115399, 0.9998428072887496, 0.0004939383904067038, 0.9994934799951949, 0.002055916229291656, 0.9969480448540122, 0.00017132635244097134, 0.0008566317622048567, 0.00018649311456776687, 0.004040684148968282, 0.9957489030488299, 0.9996735293174257, 0.9997817592513982, 0.0112158638422112, 0.08462050118351214, 0.003556249510945014, 0.002006089467712572, 0.8953542037940794, 0.0032826918562569364, 0.007597186580074027, 0.9923568308512911, 0.05468926647752925, 0.06871794990008681, 0.7248153101654743, 0.09143850657082131, 0.015141243198324213, 0.04519774089052004, 0.9993166913513034, 0.9984900035656423, 0.09681301664204829, 0.0793704682095286, 0.5850018047907121, 0.07416881233106255, 0.10599368605758851, 0.05865065953647328, 0.007770450658829948, 0.021152893460148193, 0.0032808569448393114, 0.9677664603869433, 0.012102597827891264, 0.026123900189472606, 0.9617137493480424, 0.19867605103869496, 0.24345333904749059, 0.1858101786922763, 0.07885813634260636, 0.1506816772232857, 0.1425178895849974, 0.0443835673537607, 0.730652593573409, 0.050187957221896264, 0.03172399289998228, 0.029522327777586035, 0.11358590517817001, 0.48049289590314737, 0.19059340809586653, 0.20573919898397072, 0.07992798521837412, 0.019058675353044997, 0.02418269072380081, 0.2752006960636416, 0.2861467915603643, 0.19529531550630103, 0.08404412866762813, 0.10413492210227925, 0.05518082687331184, 0.0983337154018332, 0.8231812978446729, 0.0073023149260014585, 0.03335548936537954, 0.009530139818679869, 0.028280999332056495, 0.17934227989412307, 0.41419932156501876, 0.12428534986963304, 0.1244237641203231, 0.1359334414277054, 0.021837509858872384, 0.9995760576073837, 0.23213820470399904, 0.3371208120082992, 0.1277248564164112, 0.2264175029804952, 0.06606215749500745, 0.010541833642820337, 0.17710753886831082, 0.21264120304512696, 0.38248478047552226, 0.10497105601732304, 0.05582663581289755, 0.06696366182701764, 0.30316422654956476, 0.2414064236853651, 0.18053619562420722, 0.16277077682136243, 0.07030984714292023, 0.04181347493702479, 0.9998009839891201, 0.25701442519977913, 0.1602848010995966, 0.3546181880458016, 0.09909508889079843, 0.025077957391460928, 0.10390914982249928, 0.9996919207581307, 0.4729942343709392, 0.3491275315916717, 0.06140364065204636, 0.04954668111170697, 0.05878184003166445, 0.00814363376371685, 0.28462873217463086, 0.22878390373822913, 0.1874982993180537, 0.11542018974857735, 0.10412323088313237, 0.07953917532102414, 0.2684379041714665, 0.46668271951132834, 0.13024701958318305, 0.09412319058744745, 0.015620354571588049, 0.024894060573999333, 0.23883531404710448, 0.4689716538114126, 0.10966600863142388, 0.1534427319367481, 0.01709047377503732, 0.011991516831660368, 0.9995713107882396, 0.9996455656680373, 0.2890935159468521, 0.22846886700274807, 0.09491891570559136, 0.15424816616798376, 0.09435569897441239, 0.1389174067452923, 0.2917590143007821, 0.14348312920952222, 0.21139476835521614, 0.1468559533568165, 0.04324761942960872, 0.16326102766955017, 0.9978134922822786, 0.0020910302392293987, 0.03323232500434297, 0.03756955931659036, 0.8546332067416045, 0.02843958206569518, 0.016933038068363077, 0.02917235681251323, 0.9996401731417542, 0.006884329556792391, 0.013363698551420522, 0.9591490914860458, 0.0009111612648695811, 0.01154137602168136, 0.008099211243285165, 0.020567593568602622, 0.06321294189700481, 0.8591480752077691, 0.026928980533290632, 0.005532802948279068, 0.024603599584013924, 0.1302405148711524, 0.24715265271555256, 0.0723596654665215, 0.04836268713100775, 0.42271751572747557, 0.07916397155469013, 0.028744909898843235, 0.7084961836362593, 0.004268596414678142, 0.0029516890101497794, 0.24648873764758464, 0.00908212003123009, 0.9996597687199323, 0.02115447194172187, 0.032376661325440176, 0.0029667856991439207, 0.9434378523277668, 0.008833598520475711, 0.019922583897243093, 0.9707560927288733, 0.00018794890469097256, 0.08339107363547062, 0.8711926733847609, 0.00841180194828533, 0.002855858686146254, 0.0029597080929152086, 0.031154822030686407, 0.060174364706895384, 0.019797626483653893, 0.005383565096432199, 0.0007814852559337063, 0.9139035909669176, 0.9993019307384804, 0.047847768714792946, 0.9242758415396215, 0.008385691424242064, 0.0014798278983956582, 0.006659225542780462, 0.011222028229500408, 0.09009647699627335, 0.04310210354885457, 0.14627915971243388, 0.13744179281159546, 0.00902879001060388, 0.5740460023349668, 0.023745962762808895, 0.9511651006108367, 0.0013265900984809438, 0.004377747324987115, 0.011408674846936117, 0.007959540590885663, 0.0024255330894594074, 0.00022739372713681945, 0.9937484865424239, 0.003600400679666308, 0.9997872588785619, 0.04123182147744813, 0.008879744685655245, 0.008879744685655245, 0.017293768496188713, 0.9236176395415112, 9.314417502435571e-05, 0.010382558589082172, 0.0024874879953009368, 0.002054881387422513, 0.985045246139171, 0.9998960823100282, 0.3845938091909388, 0.15730905948366905, 0.24875774701294698, 0.1293778646961135, 0.03417547721088582, 0.04578291574495568, 0.9996890955032005, 6.466597401500402e-05, 3.233298700750201e-05, 0.9957266678830319, 0.0007113257141650442, 0.0034596296098027154, 0.00015245851847261836, 0.011739305922391615, 0.006403257775849972, 0.0007622925923630919, 0.9807656493343541, 0.009683768914509255, 0.018560557086142737, 0.0018543387283102828, 0.9688919855421229, 0.000669622318556491, 0.00034339606079820056, 0.029497336847125813, 0.021197478908359643, 0.0008956681228884356, 0.9435565118588706, 5.971120819256237e-05, 0.00477689665540499, 0.09327865853956813, 0.04277419148499533, 0.8359004649236437, 0.0094695875727324, 0.018552661366985926, 0.24548108190134163, 0.249275238827461, 0.18214349096474483, 0.0908811664174841, 0.09587542694078591, 0.13634353009078481, 0.04685278683986277, 0.01771028919957801, 0.0062379395775485555, 0.925511133048845, 0.001316630747384766, 0.0023683296980396705, 0.9997649727718396, 0.9998844113604088, 0.9997304044490958, 0.31833266955214085, 0.08510452113885153, 0.06062278255337917, 0.43088980997487347, 0.026625817580078693, 0.07840602597923173, 0.0746731093188846, 0.00131114991278978, 0.9090639395342474, 0.013798291939359112, 0.0011862784925240864, 0.9984904442014497, 0.19724166587651562, 0.2069522527281769, 0.3078957959613199, 0.10862594721531456, 0.08411138905365603, 0.09516939478556963, 0.03878817716527125, 0.0075728075868663255, 0.5730604484746041, 0.011440501405243251, 0.0013091972438311274, 0.3678245276034304, 0.9993234982305739, 0.31405333828185455, 0.30797088637380465, 0.13570478001759487, 0.06546194029093283, 0.09683755362959286, 0.07997373793507544, 0.31893667493282335, 0.21531456445051067, 0.12303492990662282, 0.14120580550090744, 0.08717437466695643, 0.11433674027788329, 0.0018821795730840757, 0.9975551737345602, 0.2893591294813254, 0.24402037607766452, 0.2151517575311356, 0.1047073699295341, 0.08323093943794989, 0.06353203278670412, 0.2603879674416285, 0.28750543789871713, 0.148590788624674, 0.07271043189547019, 0.13125736985298161, 0.09954912882108156, 0.0008312829859346379, 0.0003062621527127613, 0.0015313107635638065, 0.8161448852434071, 0.1763632482264487, 0.004812690971200535, 0.999617287651339, 0.3517831616039482, 0.20043100979895756, 0.041937817011101004, 0.27343709471449634, 0.06341623563102634, 0.06898529967186759, 0.4468730351277048, 0.22797665987369967, 0.02372374803437121, 0.14366641777522543, 0.06223137625588863, 0.09553021087008497, 0.0014967799278456147, 0.02202404750972833, 0.9764350772152857, 0.003907752426297673, 0.0014128028002768512, 0.994673290663, 0.0020533725697774196, 0.9836415117593016, 0.003042033436707288, 0.011255523715816966, 0.1151747716857254, 0.12173369945826101, 0.47394532981032883, 0.1207680020074962, 0.09024526408390067, 0.07813218045292, 0.9999665667324834, 0.00015662544050240753, 0.9997401867268672, 0.9999729666585415, 0.9996824065743435, 0.27079330001822655, 0.2355750386181055, 0.14745851186251055, 0.1237140558461992, 0.11596013861854282, 0.10650143227709837, 0.9996783094305223, 0.5080517066124571, 0.3519369741256868, 0.05599552025364591, 0.03549726231158048, 0.04176686901981407, 0.006750124010689454, 0.00305062348668361, 0.9846976811659454, 0.011548788913873667, 0.00043580335524051573, 0.8252116075853053, 0.03813337213033462, 0.007427402647713631, 0.005615841026320062, 0.10565933156777989, 0.017979749092331167, 0.999852916221241, 0.441078607070343, 0.3576173819346086, 0.06272468898424356, 0.039467288122343576, 0.09429003580280455, 0.004823577667032932, 0.3016071198253097, 0.23531336992157534, 0.1306981131081866, 0.11555760175564354, 0.10800429125156287, 0.10882189580977239, 0.9998157477998635, 0.00012160249912428405, 0.08765087704217164, 0.30239169490051654, 0.000766178995123878, 0.6089590653244582, 9.577237439048475e-05, 0.00013408132414667863, 0.23929644523828372, 0.25448495018216444, 0.1616003788402281, 0.12199513446178231, 0.14730635727788205, 0.07531668156136605, 0.0013651784898567505, 0.9984915474812273, 0.9749615955343146, 0.02089708623284655, 0.0015431694448871298, 0.0018003643523683182, 0.0002571949074811883, 0.0005143898149623766, 0.009846600021113119, 0.0003543942138862167, 0.002015182784843193, 0.9536261872247267, 0.033681348131499846, 0.00047947452466958726, 0.9997017758403306, 0.029758264105748555, 0.11836630286402108, 0.02656486548119299, 0.7696792531030461, 0.03965429061261305, 0.01603717770793289, 0.9995718241864955, 0.003017924243232753, 0.9969209750145527, 0.03607150034898481, 0.013703633711011387, 0.005658274564546637, 0.9084182992299483, 0.03554103710855856, 0.0006188737804972885, 0.9950743096962255, 0.0017166319316208605, 8.174437769623145e-05, 0.003106286352456795, 0.9998700367660293, 0.00022133473845143315, 0.9995476788466721, 0.9997278363475818, 0.9998129329677029, 0.9993262031612228, 0.00030467262291500693, 0.9986104053483238, 0.0012610309450035659, 0.9998721608601544, 0.17902582557634183, 0.09594230699312603, 0.07340006363779362, 0.08351651860110054, 0.5547648713989837, 0.013357394491110819, 0.9994722288614677, 0.04364713647914491, 0.07320172585621772, 0.7745157861866078, 0.05937424233600279, 0.0072008939737860525, 0.042056754988001974, 0.057737251547350994, 0.004228427210525039, 0.00837997392631326, 0.0003844024736840945, 0.92925453988393, 0.026977296395719278, 0.04378622722689821, 0.023864531426982437, 0.005395459279143856, 0.000207517664582456, 0.8995890759649466, 0.9997609555963209, 0.9984917413606582, 0.3134297694186365, 0.21645395251356309, 0.2147823270766637, 0.10677722893843967, 0.0732283957499459, 0.07532223585905184, 0.3317035566872437, 0.2541987301479459, 0.15278730626583534, 0.05630587184704043, 0.10772797288198377, 0.09727870615231549, 0.23774248182246163, 0.2410585491550669, 0.2545856774813651, 0.12571399977185577, 0.059278073557445396, 0.08162108820701122, 0.007013415885817831, 0.0009673677083886663, 0.9901008495358, 0.0019347354167773326, 0.2585772281073962, 0.2520033068908242, 0.2199719056989659, 0.10767340542698665, 0.09736947244545617, 0.06440407151791011, 0.0010787510221979624, 0.9989234465553132, 0.011844799894431017, 0.001435733320537093, 0.9863487912089829, 0.06589549805349476, 0.08913593800823684, 0.6999350519702954, 0.006661878774905593, 0.06258359260539884, 0.07577411257971191, 0.17804183761281508, 0.09640728597224503, 0.5689859409149965, 0.04958974967089555, 0.0437910483274379, 0.06317793645540432, 0.9999302527529729, 0.02345601410907006, 0.0015848658181804095, 0.9473535428173397, 0.0039621645454510235, 0.015531685018168012, 0.008082815672720088, 0.00124574900462397, 0.9946613719142054, 0.00387566356994124, 0.00013841655606933, 0.1666954455953764, 0.06908269670194492, 0.15202914187642136, 0.2085699458058264, 0.040442489868792356, 0.36317985357270766, 0.5836401654908877, 0.27776822725798633, 0.031647411020645395, 0.036955729048331346, 0.06921063150538766, 0.0007665963364233117, 0.9995518784022472, 0.13218633748250913, 0.12196930092366194, 0.4841029316921398, 0.08556539651206285, 0.04533238805917844, 0.13084295253246395, 0.00025789373172317503, 0.0041262997075708005, 0.9954698044514556, 0.018142698092138827, 0.004620190197376968, 0.004620190197376968, 0.9720429425017982, 0.0005634378289484107, 0.2826178665443246, 0.23302459960314284, 0.21307741715319542, 0.09582922163730259, 0.10029885551507048, 0.07515292592201368, 0.9996923691204239, 0.3239184467574289, 0.09853006457299844, 0.017773916044745357, 0.1087749910359271, 0.08245790644743083, 0.3685423210825343, 0.00011982781325125637, 0.9998432737684831, 0.019832140167719576, 0.980076694334979, 0.05578295113760963, 0.04232603302812442, 0.9018435461237054, 0.9499804567427573, 0.020525548934424483, 0.0013476370512500923, 0.0025916097139424854, 0.003939246765192577, 0.021562192820001477, 0.9995429650838413, 0.00025304885191995984, 0.19520299523630602, 0.2223052182615213, 0.14364962122515498, 0.07489991164738696, 0.08119264447180587, 0.28275251137219076, 0.22582260217018002, 0.16722973497570454, 0.18993257005847314, 0.08096982426170196, 0.04229896641736885, 0.2937464432096786, 0.08766321910725038, 0.1060353380253319, 0.11862746447480349, 0.05408421524199278, 0.010459033990817941, 0.6231382356634689, 0.0269404783237243, 0.012580405595361006, 0.9003581497187269, 0.005799260140300562, 0.0543412153887423, 0.9998613841024799, 0.28571223843805615, 0.22124622366946997, 0.23812367491850112, 0.13239910285577175, 0.07325106292215164, 0.04926630377139669, 0.10336959462182486, 0.42080196527638125, 0.006127470895162985, 0.0367858098603449, 0.42212398810650203, 0.010786027534636212, 0.24909919174537168, 0.18429021903311812, 0.1770410484166552, 0.07894312116301264, 0.11498086408408914, 0.19564089407731666, 0.9997716770600917, 0.9997758871089968, 0.023620105316839557, 0.01539986979686237, 0.8700969293598042, 0.0059727425550783145, 0.005604160566174228, 0.07930684366833464, 0.001382953971160295, 0.9984927671777329, 0.2375321712918954, 0.2376602482764662, 0.28634141655146667, 0.0738170211306496, 0.09808314190502729, 0.06656726809703781, 0.12997525211101302, 0.13397521152803718, 0.5782262952788709, 0.06248285913621982, 0.049332832809964665, 0.04601018281499252, 0.9997958239181508, 0.9989286450063607, 0.0010509932328490361, 0.9997158941085014, 0.2040095354976117, 0.36040514154001485, 0.047215976259171864, 0.05837037025396383, 0.2846535802238621, 0.04534325533664645, 0.9999104417076072, 9.277294126048938e-05, 0.012524347070166066, 0.0027831882378146814, 0.0006494105888234257, 0.9838570420674898, 0.1341595234662174, 0.11182834314632646, 0.05369398665718952, 0.030155715509196362, 0.6635550723624738, 0.006617444361203205, 0.9616767091701892, 0.025237653320021897, 0.01302588558452743, 0.9807572796872903, 0.016479024720228514, 0.00041777809149875106, 4.641978794430568e-05, 0.002274569609270978, 0.0011955327934323702, 0.9987046217136409, 0.9953831427220191, 0.004446235940112766, 0.0015874044574247833, 0.9984774037201887, 0.9996399654621483, 0.01631164374118603, 0.043213683045679414, 0.00012172868463571665, 0.002434573692714333, 0.9379195151181968, 0.0039812062082914745, 0.0008957713968655817, 0.0024882538801821712, 0.9424510396577992, 0.012739859866532718, 0.037323808202732574, 0.004100487364571563, 0.0021478743338231997, 0.993684771347842, 0.02488717026811763, 0.004060538306903403, 0.003602090433543341, 0.9670630425763813, 0.0003929553200229099, 0.9995564956517151, 0.10873292663061908, 0.7932679761199062, 0.04158969256015286, 0.0057365093186417734, 0.00019556281768096955, 0.05045520696169015, 0.025624583311458036, 0.006321483107672467, 0.0022576725384544525, 0.9640261739200513, 0.0016932544038408394, 0.005631903439463023, 0.004150418799764919, 0.7347372179889019, 0.03994354005659317, 0.0012439947356243624, 0.21429505677587313, 0.011390794648523689, 0.003177024357751505, 0.952177446537817, 0.012630609032036472, 0.017899820161965795, 0.0027120939639342116, 0.01783927304360881, 0.023593877251224558, 0.0008631906311423618, 0.0008631906311423618, 0.9569906797264985, 0.017832164839850603, 0.0009552945449919967, 0.004139609694965319, 0.9769478880118153, 0.9997283471022186, 0.9986650886393492, 0.0010073958526960482, 0.999541992091345, 0.9993020321829621, 0.028742326047879633, 0.7558823091928155, 0.09696107905630674, 0.002424708074181315, 0.10423520327885069, 0.011769369528610428, 0.05257127195180917, 0.024110195262632892, 0.02128099516402567, 0.818427848445307, 0.07829332225070036, 0.005331520504546685, 0.9997090605626938, 0.12676533713476196, 0.5765455950713503, 0.08378073135459405, 0.0274987295417123, 0.00668437975884183, 0.17874174202112994, 0.27528239827948203, 0.25200420008879787, 0.17146402562976124, 0.1269739410593399, 0.09852076610770812, 0.07575454725297073, 0.9997918476987079, 0.9996854818645514, 0.999938295471327, 0.9987375900459332, 0.0001771230060379404, 0.0010627380362276423, 0.9996857030925181, 0.003733582203346701, 9.825216324596582e-05, 0.9927889835188617, 4.912608162298291e-05, 0.0019159171832963335, 0.0014246563670665044, 0.9978946063376063, 0.00043142871004652237, 0.0016640821673223007, 0.9996359678067117, 0.00024355967592041495, 0.9995689099773829, 0.32292481618777913, 0.23258698230094257, 0.14405398359431248, 0.10564118921710437, 0.08497479703006333, 0.10981701509982543, 0.9995650633352472, 0.9997533265336918, 0.9998535009409485, 0.9998097440249576, 0.0014896198866479835, 0.0037632502399528004, 0.002744036633298917, 0.9862067660076308, 0.005723276406594884, 0.2532968618708555, 0.3187979033935631, 0.15963391069954277, 0.06419079955436853, 0.12216762454159295, 0.0819150010332511, 0.00010123020048752249, 0.009211948244364547, 0.9906387419708951, 0.9999350834077106, 0.05129089645098754, 0.007450274770101478, 0.012484890625980646, 0.5524683689071398, 0.37628073136636114, 1.1958707496150046e-05, 0.999672465938033, 0.9989425106115283, 0.0009399157984677534, 0.999737128140294, 0.07142701284978517, 0.9284546440568697, 0.9998769199794809, 0.9996925802741635, 0.9994798337885737, 0.028813847710912364, 0.011643584642957137, 0.036808751451929016, 0.050169362401681676, 0.03891926295403184, 0.8336162719492262, 0.04343322270846277, 0.24594275744797697, 0.00014632191816438888, 0.00014632191816438888, 0.7099295599472542, 0.0003658047954109722, 0.12058323558656588, 0.33239477112883903, 0.0005699987501137598, 0.0005699987501137598, 0.545859303046442, 2.849993750568799e-05, 0.014242712099520233, 0.04199565396201395, 0.003906572461582693, 0.004964602503261338, 0.932450014424019, 0.002441607788489183, 0.0008414822831470227, 0.0014492194876420947, 0.9972500035606827, 0.0004674901573039015, 0.0015923492684683448, 0.00031846985369366897, 0.9980845214759586, 0.5213587935755423, 0.10007358173633665, 0.1326632621670924, 0.2399765794494208, 0.004098168619878223, 0.001837110070979893, 0.9995294201819669, 0.0004062302053167921, 0.9994356393035296, 0.23277411862301717, 0.16645483517894177, 0.17255941031031938, 0.3377215119320282, 0.08237585500811904, 0.008115493998184353, 0.9997886553970949, 0.24615312455423766, 0.24507214070830113, 0.20815162880663354, 0.11097773247419013, 0.11020466523891433, 0.07944248555046073, 0.9999648572403994, 0.004787353548933128, 0.9949716459199351, 0.02889432416866331, 0.00305298519517952, 0.001853598154216137, 0.9652339800116678, 0.0009813166698791314, 0.012934131538547161, 0.008344600992611072, 0.9783001588712406, 0.0004172300496305536, 0.032710362301432205, 0.05639571531503402, 0.027583479090974566, 0.07330171862885713, 0.7261954656531691, 0.08380971066351411, 0.0003373170894759281, 0.021925610815935324, 0.00792695160268431, 0.9696179736985552, 0.9984916690833593, 0.02327282311645391, 0.00613661505060725, 0.0122732301012145, 0.7994388418286369, 0.13506342370817653, 0.023851749064624405, 0.003778636366394824, 0.0010423824459020203, 0.0019544670860662883, 0.9880482609093776, 0.00508161442377235, 0.999334988993643, 0.33268749156001803, 0.22888630273260374, 0.1913779813910326, 0.12464696914191702, 0.08540171677451593, 0.03700236846017321, 0.3452360726502291, 0.08082692304567043, 0.006463737493188891, 0.5453702998926103, 0.012323387370191905, 0.009766083128338356, 0.24540510908426097, 0.003893085637231204, 0.0024859462502801665, 0.7471441098247693, 0.0009849975708657263, 9.380929246340252e-05, 0.9997671382491811, 0.0013164481762533101, 0.9985259416881358, 0.0005766490454885224, 0.9973145241723994, 0.002018271659209828, 0.058662828062549154, 0.0631229791616698, 0.6672070281374809, 0.044275880490606906, 0.031329601194044335, 0.13541295029476233, 0.04484371579911068, 0.1503633290692493, 0.038738574588210686, 0.7254094869340203, 0.020713871965553556, 0.019938615938772605, 0.9999718102944817, 0.9996967786750215, 0.9998715284506606, 0.07596754792153784, 0.1354204115123066, 0.3125725403155387, 0.09365902712378091, 0.10192625832169885, 0.2804529626470728, 0.05079207747132974, 0.0366091727769967, 0.8216725445503704, 0.03160555919194012, 0.01745865171764346, 0.04186476690230793, 0.2411330851523903, 0.2696346686309752, 0.11680804764438742, 0.1461210784713003, 0.14433266466379135, 0.0819723303870632, 0.27295665686090487, 0.15934912515209823, 0.14497482737305778, 0.2995026074698706, 0.09390609633060988, 0.029327809600255626, 0.011604009958729624, 0.9880814479858275, 0.23367450062878148, 0.10930491065620658, 0.0225429708752439, 0.4405214901462221, 0.19377717641191564, 0.00017688468864620322, 0.6652595141675889, 0.23578948547520923, 0.04548589410660529, 0.016761212223982212, 0.029589511014573022, 0.007103953583874525, 0.1531808277990749, 0.1152973972681209, 0.0507058354712604, 0.5072251502240226, 0.046452549930085595, 0.1271398785788429, 0.056137689286623084, 0.017736966111441578, 0.0947529416415542, 0.16338695564859249, 0.06897879304592161, 0.5990037786430298, 0.18542323260684196, 0.1817353540232167, 0.11760479674289148, 0.08225070100763023, 0.08950536365422439, 0.3434846078417419, 0.9998164340842327, 0.9997483665421589, 0.0014404622701599144, 0.001867265905762852, 0.0028275740858694615, 0.14436632974269364, 0.8493925853042962, 0.0001067009089007344, 0.999785085130956, 0.9998250042132887, 0.0015557067558881151, 0.9827399576945223, 0.01555706755888115, 0.9998352814769744, 0.9994491348500513, 0.0002761672105139683, 0.2478386200655839, 0.142783007785318, 0.32086702979858295, 0.1378993359154758, 0.044414110786755875, 0.10619925695864668, 0.2124962331717888, 0.14048437428464125, 0.3511824984647765, 0.1595460795805891, 0.03571280705320689, 0.1005759795842427, 0.8272959978786455, 0.10126678761287995, 0.0038326370416985685, 0.014521435902435688, 0.053103315455534615, 0.05553159822087655, 0.013914924698368433, 0.5509125250257375, 0.012529837257161447, 0.0020496091615548437, 0.3650626130445946, 0.0033017939788503384, 0.0020524665273934537, 0.014724216392170428, 0.003123318628642212, 0.001695515826977201, 0.9751893135372027, 0.008361162105096544, 0.0003344464842038618, 0.00735782265248496, 0.00367891132624248, 0.9804298684436209, 0.337142889008545, 0.23710054823635296, 0.1559392684496807, 0.05607346118436559, 0.1115210308443493, 0.10222092473205971, 0.04232833597749673, 0.06958005635205439, 0.3769926700229796, 0.23252834260301858, 0.24286980493644184, 0.035703336670147454, 0.0035104402687884703, 4.44359527694743e-05, 0.9952320341779161, 0.0011997707247758062, 0.0002609129731443968, 0.01474158298265842, 0.0003478839641925291, 0.9846420751514295, 0.0347291718156816, 0.006233441095122339, 0.9590594370638228, 0.0035311488691470642, 0.04266804883552702, 0.00029426240576225533, 0.9534101946697073, 0.1391161670630072, 0.08033366082301568, 0.09316954307889473, 0.026984525197018435, 0.018889167637912905, 0.6415023881972274, 0.10925134446646975, 0.03418749554733067, 0.00668885782447774, 0.008621194529326864, 0.005499727544570586, 0.8358099454897407, 0.2993163604481426, 0.27341949001753324, 0.18990208287881796, 0.08026369777692074, 0.09017838102351142, 0.066920999309868, 0.09348158416369297, 0.3125985275721891, 0.011781821423671627, 0.00784208007988302, 0.5722224951134991, 0.002082078494976891, 0.08512932230395365, 0.05858508260201764, 0.686463154362471, 0.11410893817536506, 0.04398643103862588, 0.011727900883172134, 0.04454733048234621, 0.0032792747166890414, 0.8297719707419292, 0.07671655358338729, 0.04567891119444313, 0.8375252699814, 0.000936305500258692, 0.1601667596380025, 0.0013459391566218698, 0.22708323163160912, 0.25798901675329944, 0.19990745505908836, 0.10925541203980373, 0.11186914065819988, 0.09389975640672629, 0.2778736388349825, 0.2775557389794784, 0.17173883478313473, 0.08872322481001514, 0.10840968375178571, 0.0757009967840884, 0.1513891860978639, 0.5518551048280312, 0.04831355265687305, 0.07411139911381222, 0.10923291362734093, 0.0650939147899581, 0.15572965334497554, 0.4062671612134935, 0.07308965180841182, 0.15931398213183748, 0.10475318785156232, 0.100844618796152, 0.19082496548215813, 0.2700628117372062, 0.14225637470780536, 0.05811251992743628, 0.2647725438920513, 0.07397438719964902, 0.1502130889416705, 0.14819356590546923, 0.467941993077405, 0.11345535591025445, 0.07084824739151446, 0.04934555689650312, 0.9971588860762326, 0.002342440462412545, 9.009386393894405e-05, 0.0003603754557557762, 0.9999302517957094, 0.009314531279386123, 0.9906004015627141, 0.9997385148342375, 0.21224460872183046, 0.15180074129493845, 0.27041234724980184, 0.11335945322427912, 0.09153331796873798, 0.1606464722096067, 0.9996000655014944, 0.9999546619194595, 0.9998092916648303, 0.003246098127630516, 0.9965521251825685, 0.9998654878711205, 0.12022941241339924, 0.16650243101740403, 0.520951916406544, 0.061454064194620676, 0.0768386822690355, 0.05402366853595946, 0.4731062958829932, 0.23885269702497053, 0.1697374783823314, 0.08455045012673464, 0.019211784877794538, 0.01454116107839028, 0.0017456266355942544, 0.9976256222421164, 0.00407124232467087, 0.9959034200873457, 0.06973032316399097, 0.1633415895280769, 0.15007251832405533, 0.13937602214938485, 0.17515512486022877, 0.3023283404559152, 0.21159947206318228, 0.34477811416824966, 0.1553734063673859, 0.15645951173228412, 0.031175246585041828, 0.10061056595485515, 0.10321615465181033, 0.5028222901385352, 0.18505811925813434, 0.06663183277046753, 0.057152396153101706, 0.08511794637850191, 0.04534922665347447, 0.025523182840146433, 0.8657372465153241, 0.004063959172463792, 0.003646168977163776, 0.0556800387554385, 0.2715664686964576, 0.25218314306685896, 0.16137963218585794, 0.06933382418052393, 0.12377118897361218, 0.12176733039374944, 0.24616153725011028, 0.2671864127584819, 0.20636214281641144, 0.09346050060245205, 0.12064658578612472, 0.06618553239395537, 0.9984934467958799, 0.06990430583133608, 0.8660868836801556, 0.031168992131133125, 0.01369734560396015, 0.01702865346106818, 0.002108646994658807, 0.0008837568116943926, 0.9989986999393414, 0.0008534008016280835, 0.9984789379048578, 0.02262264770218222, 0.9073738332911633, 0.0058955990981444575, 0.018235225117516577, 0.04442265366973963, 0.0015081765134788148, 0.06774683378289824, 0.8706705419596735, 0.02974137361799185, 0.02014662906776057, 0.00938464065497074, 0.0022877979706147577, 0.9996800031963717, 0.9987875349979457, 0.0010673657867998352, 0.9917666179944339, 0.008163402985243151, 0.31625538083670035, 0.11377233688737456, 0.050216541151437526, 0.009670182227923882, 0.054973897681573715, 0.45512044138302854, 0.26809044304204044, 0.2254796697063762, 0.15812957166726524, 0.09565123676314971, 0.18685488439025366, 0.06579063480767837, 0.1737360824050205, 0.25494474153226415, 0.13897817776145688, 0.018875295080114807, 0.18536480326977978, 0.2281067653453059, 0.9289109109481214, 0.027646976796957445, 0.005089244485012067, 0.0053093199222017775, 0.00682233855288104, 0.02621648645522432, 0.9781259406308895, 0.00570079269133591, 0.007479899135276312, 0.002142579803455107, 0.006542520471264702, 0.03411482300217327, 0.003229805728016404, 0.9624821069488885, 0.03260260003942248, 0.018918336579935677, 0.019548947799266865, 0.0993212670446623, 0.8013807375260753, 0.028251382626037276, 0.0004409655850676444, 0.9912906352320645, 0.0002204827925338222, 0.006614483776014665, 0.0011024139626691109, 0.2704482747634805, 0.16396564877760358, 0.021098578739898594, 0.4079110923168034, 0.1319328847786064, 0.004650170742375267, 0.18134787896533336, 0.49552963075751555, 0.12366228969419521, 0.06478806324906512, 0.10829805363037387, 0.026355461289993425, 0.9994812366282905, 0.9994459571219241, 0.9996043614983363, 0.2032912659624986, 0.5533083532664855, 0.10537889880271166, 0.04745752489887633, 0.06421038801167515, 0.02635141514121817, 0.9997278755185964, 0.9998651914370495, 0.9993543731540266, 0.9996758571471916, 0.9997965376002054, 0.9999347617565307, 0.11282271710426021, 0.5716258500649614, 0.007987975227163891, 0.024855883213060842, 0.2779141455584737, 0.004796749391994198, 0.12695704110060402, 0.6331187381072563, 0.04289301913651997, 0.03239427454320816, 0.15231511997280955, 0.01232260057645329, 0.9994362074401459, 0.9993235131293005, 0.023530146842435616, 0.00845207048442255, 0.008347723935232148, 0.013147665197990634, 0.9465275477061352, 0.004943262395130731, 0.00250548915917585, 0.019637617734080987, 0.0007448751554306581, 0.9721297937602298, 0.9997659323273772, 0.0003028171823398947, 0.9992967017216524, 0.9995938758121008, 0.0023926502031854278, 0.00136722868753453, 0.996197002454847, 0.023542990025349007, 0.008877578493846945, 0.9567331528785543, 0.005309140079653565, 0.0028721577480093057, 0.002611052498190278, 0.9998082762556759, 0.21495940919817114, 0.19173004762706253, 0.33130226839976035, 0.11757362598510124, 0.06866153808194522, 0.07577384524684215, 0.999611249231227, 0.020100517509700003, 0.053782465769197305, 0.007229500060661332, 0.8872644236298347, 0.009486107016012268, 0.02214817937659252, 0.0008473748154408339, 0.9987724491329296, 0.1003102677040995, 0.07522005450125867, 0.05372138391414708, 0.10562170396679765, 0.6259907023894257, 0.03915287302217499, 0.05013815622038118, 0.05773611161764128, 0.023044348237843806, 0.018285189362636935, 0.8468380507330827, 0.0039659657293390615, 0.00016974357818814813, 0.0030553844073866665, 0.995758265546224, 0.0009760255745818518, 0.9997924396387509, 0.9998607207543466, 0.0005908006597082719, 0.9992802358305711, 0.9997188984979936, 0.9995809460072993, 0.2146155610068012, 0.04043023097976002, 0.06883895353048342, 0.06681427842664567, 0.0034166392377261985, 0.605820753726451, 0.999744196637402, 0.0001983619437772623, 0.012941697508434586, 0.01137579816577702, 0.9003460661650808, 0.005803038740436861, 0.02256737287947668, 0.046976980279726965, 0.9996249496890907, 0.21720412786283794, 0.3040083262748036, 0.13252670532068928, 0.0912037675993783, 0.17875075041960847, 0.07630363934128691, 0.9984903091172045, 0.047279540127280646, 0.01910881413477593, 0.004885552479819, 0.8911799317824675, 0.014380860122047864, 0.023166974662367515, 0.9997821448874529, 0.9998114149053668, 0.9997559013200354, 0.9996207806398256, 0.00027611927276349643, 0.9995517674038572, 0.9687088155039041, 0.009019235258515623, 0.0013958340281036083, 0.0009663466348409595, 0.019971163786713163, 0.9189479607580394, 0.030183026069473578, 0.027679364920853648, 0.017073578110727565, 0.001495242074870235, 0.004624818510645145, 0.8386884338738538, 0.05438414749361992, 0.06129701579932543, 0.020782357248165295, 0.0024501305387310663, 0.02240119349696975, 0.9997769902238334, 0.9998431133161632, 0.9999582632463964, 0.05631133957563676, 0.03797042271919367, 0.07873278828538686, 0.7659373053491645, 0.007688581070967948, 0.05330463189425265, 0.9994793053619127, 0.00041125194295511423, 0.9999080725672892, 0.9996126826387046, 0.9995937623436554, 0.999374305321166, 0.9995565498656378, 0.9996281042108238, 0.9996737841163303, 0.9997164969650862, 0.00014907791484716467, 0.025081240636390213, 0.3561858413287792, 0.00016112146019094356, 0.0010741430679396236, 0.6174711426050926, 0.04875720121337501, 0.011272111949002728, 0.010740408555181845, 0.8876788159839649, 0.006380440725850601, 0.03519876467094248, 0.9999026378838477, 5.7654537155270006e-05, 0.9999146328334212, 0.9998085460159378, 0.9998495794077754], \"Term\": [\"abbott\", \"abbott\", \"abbotts\", \"abx\", \"abx\", \"accounting\", \"accounting\", \"accounting\", \"accounting\", \"accounting\", \"accounting\", \"adcetris\", \"additional\", \"additional\", \"additional\", \"additional\", \"additional\", \"additional\", \"adobe\", \"affo\", \"agreement\", \"agreement\", \"agreement\", \"agreement\", \"agreement\", \"agreement\", \"aimco\", \"airbus\", \"aircraft\", \"aircraft\", \"aircraft\", \"aircraft\", \"aircraft\", \"airline\", \"airline\", \"airline\", \"airline\", \"airlines\", \"airlines\", \"airlines\", \"airlines\", \"airlines\", \"alco\", \"alliancebernstein\", \"alll\", \"allowance\", \"allowance\", \"allowance\", \"allowance\", \"allowance\", \"allowance\", \"allstate\", \"allstate\", \"aluminum\", \"aluminum\", \"aluminum\", \"aluminum\", \"antibodies\", \"antibody\", \"apartment\", \"apartment\", \"apartment\", \"apartment\", \"apparel\", \"apparel\", \"apparel\", \"apparel\", \"applebees\", \"approval\", \"approval\", \"approval\", \"approval\", \"approval\", \"approval\", \"approximately\", \"approximately\", \"approximately\", \"approximately\", \"approximately\", \"approximately\", \"ashford\", \"ashford\", \"astec\", \"autoliv\", \"automotive\", \"automotive\", \"automotive\", \"automotive\", \"automotive\", \"average\", \"average\", \"average\", \"average\", \"average\", \"average\", \"axa\", \"axa\", \"axcelis\", \"axis\", \"axis\", \"axis\", \"axis\", \"axle\", \"bakery\", \"bakery\", \"bakery\", \"ball\", \"ball\", \"ball\", \"ball\", \"ball\", \"bancorp\", \"bancorp\", \"bancshare\", \"bancshare\", \"bancshare\", \"bancshare\", \"bank\", \"bank\", \"bank\", \"bank\", \"bank\", \"bank\", \"banking\", \"banking\", \"banking\", \"banking\", \"banking\", \"banking\", \"banks\", \"banks\", \"banks\", \"banks\", \"banks\", \"banks\", \"based\", \"based\", \"based\", \"based\", \"based\", \"based\", \"basel\", \"basel\", \"basel\", \"basel\", \"bbt\", \"bbt\", \"beazer\", \"beer\", \"benefit\", \"benefit\", \"benefit\", \"benefit\", \"benefit\", \"benefit\", \"beverage\", \"beverage\", \"beverage\", \"beverage\", \"biologics\", \"blood\", \"blood\", \"blood\", \"blood\", \"boeing\", \"boeing\", \"bongara\", \"brands\", \"brands\", \"brands\", \"brands\", \"brands\", \"breast\", \"brokered\", \"brokered\", \"brokered\", \"buell\", \"bunge\", \"bunges\", \"caci\", \"caf\", \"caf\", \"cancer\", \"cancer\", \"cancer\", \"cancer\", \"cancer\", \"cancer\", \"candidates\", \"candidates\", \"candidates\", \"candidates\", \"candidates\", \"candidates\", \"care\", \"care\", \"care\", \"care\", \"care\", \"care\", \"carmax\", \"casino\", \"casino\", \"catastrophe\", \"catastrophe\", \"catastrophe\", \"catastrophe\", \"cbre\", \"cbre\", \"cbre\", \"cecony\", \"cellco\", \"cellular\", \"cellular\", \"cellular\", \"cellular\", \"cellulars\", \"centers\", \"centers\", \"centers\", \"centers\", \"centers\", \"centers\", \"cerus\", \"ceva\", \"cfc\", \"cfc\", \"changes\", \"changes\", \"changes\", \"changes\", \"changes\", \"changes\", \"chargeoffs\", \"chargeoffs\", \"chargeoffs\", \"chargeoffs\", \"chassis\", \"chassis\", \"churchill\", \"cim\", \"cim\", \"cim\", \"citycenter\", \"clec\", \"clevelandcliffs\", \"cliffs\", \"clinical\", \"clinical\", \"cme\", \"cme\", \"cme\", \"cme\", \"coal\", \"coal\", \"coal\", \"coalfired\", \"cogent\", \"collaboration\", \"collaboration\", \"collaboration\", \"collaboration\", \"collaboration\", \"collaboration\", \"collaborators\", \"collaborators\", \"collateral\", \"collateral\", \"collateral\", \"collateral\", \"collateral\", \"collateral\", \"coltec\", \"comenity\", \"commercial\", \"commercial\", \"commercial\", \"commercial\", \"commercial\", \"commercial\", \"commercialization\", \"commercialization\", \"commercialization\", \"commercialization\", \"commercialize\", \"commercialize\", \"commercialize\", \"common\", \"common\", \"common\", \"common\", \"common\", \"common\", \"communications\", \"communications\", \"communications\", \"communications\", \"communications\", \"communications\", \"companys\", \"companys\", \"companys\", \"companys\", \"companys\", \"companys\", \"compensation\", \"compensation\", \"compensation\", \"compensation\", \"compensation\", \"compensation\", \"content\", \"content\", \"content\", \"content\", \"content\", \"content\", \"contract\", \"contract\", \"contract\", \"contract\", \"contract\", \"contract\", \"contractholder\", \"contracts\", \"contracts\", \"contracts\", \"contracts\", \"contracts\", \"contracts\", \"corporation\", \"corporation\", \"corporation\", \"corporation\", \"corporation\", \"corporation\", \"cost\", \"cost\", \"cost\", \"cost\", \"cost\", \"cost\", \"cpuc\", \"credit\", \"credit\", \"credit\", \"credit\", \"credit\", \"credit\", \"ctbi\", \"currency\", \"currency\", \"currency\", \"currency\", \"currency\", \"currency\", \"current\", \"current\", \"current\", \"current\", \"current\", \"current\", \"customer\", \"customer\", \"customer\", \"customer\", \"customer\", \"customer\", \"customers\", \"customers\", \"customers\", \"customers\", \"customers\", \"customers\", \"cytori\", \"darling\", \"dated\", \"dated\", \"dated\", \"dated\", \"dated\", \"dated\", \"debt\", \"debt\", \"debt\", \"debt\", \"debt\", \"debt\", \"decommissioning\", \"decommissioning\", \"deposit\", \"deposit\", \"deposit\", \"deposit\", \"deposit\", \"deposit\", \"depositors\", \"depository\", \"depository\", \"depository\", \"depository\", \"depository\", \"depository\", \"deposits\", \"deposits\", \"deposits\", \"deposits\", \"deposits\", \"deposits\", \"development\", \"development\", \"development\", \"development\", \"development\", \"development\", \"devices\", \"devices\", \"devices\", \"devices\", \"devices\", \"devices\", \"dhl\", \"diagnostic\", \"diagnostic\", \"diagnostic\", \"diagnostic\", \"diagnostics\", \"diagnostics\", \"diagnostics\", \"diagnostics\", \"digital\", \"digital\", \"digital\", \"digital\", \"digital\", \"digital\", \"disease\", \"disease\", \"disease\", \"disease\", \"disease\", \"disorders\", \"display\", \"display\", \"display\", \"display\", \"display\", \"display\", \"distributions\", \"distributions\", \"distributions\", \"distributions\", \"distributions\", \"distributions\", \"domain\", \"domain\", \"domain\", \"domain\", \"domain\", \"domain\", \"dominion\", \"dominion\", \"dominion\", \"dominion\", \"dorchester\", \"drug\", \"drug\", \"drug\", \"drug\", \"drug\", \"drug\", \"drugs\", \"drugs\", \"drugs\", \"drugs\", \"dte\", \"earnings\", \"earnings\", \"earnings\", \"earnings\", \"earnings\", \"earnings\", \"ecolab\", \"edison\", \"edison\", \"edison\", \"edison\", \"edison\", \"efficacy\", \"efficacy\", \"efficacy\", \"efficacy\", \"efficacy\", \"electric\", \"electric\", \"electric\", \"electric\", \"electric\", \"electric\", \"electricity\", \"electricity\", \"electricity\", \"electricity\", \"electricity\", \"electricity\", \"emissions\", \"emissions\", \"emissions\", \"emissions\", \"emissions\", \"ended\", \"ended\", \"ended\", \"ended\", \"ended\", \"ended\", \"energy\", \"energy\", \"energy\", \"energy\", \"energy\", \"energy\", \"energys\", \"enogex\", \"enpro\", \"environmental\", \"environmental\", \"environmental\", \"environmental\", \"environmental\", \"environmental\", \"epa\", \"epa\", \"epa\", \"epa\", \"epa\", \"epsilon\", \"equity\", \"equity\", \"equity\", \"equity\", \"equity\", \"equity\", \"estate\", \"estate\", \"estate\", \"estate\", \"estate\", \"estate\", \"ethylene\", \"exchange\", \"exchange\", \"exchange\", \"exchange\", \"exchange\", \"exchange\", \"exhibit\", \"exhibit\", \"exhibit\", \"exhibit\", \"exhibit\", \"exhibit\", \"expeditors\", \"expeditors\", \"expense\", \"expense\", \"expense\", \"expense\", \"expense\", \"expense\", \"expenses\", \"expenses\", \"expenses\", \"expenses\", \"expenses\", \"expenses\", \"exploration\", \"exploration\", \"exploration\", \"exploration\", \"exploration\", \"exploration\", \"extrusions\", \"facilities\", \"facilities\", \"facilities\", \"facilities\", \"facilities\", \"facilities\", \"facility\", \"facility\", \"facility\", \"facility\", \"facility\", \"facility\", \"fcc\", \"fcc\", \"fcc\", \"fda\", \"fda\", \"fda\", \"fdic\", \"fdic\", \"fdic\", \"fdic\", \"federal\", \"federal\", \"federal\", \"federal\", \"federal\", \"federal\", \"ferc\", \"ffo\", \"ffo\", \"fhlb\", \"fhlbny\", \"filed\", \"filed\", \"filed\", \"filed\", \"filed\", \"filed\", \"firstbank\", \"fiscal\", \"fiscal\", \"fiscal\", \"fiscal\", \"fiscal\", \"fiscal\", \"flight\", \"flight\", \"flight\", \"flight\", \"food\", \"food\", \"food\", \"food\", \"food\", \"food\", \"footwear\", \"foreign\", \"foreign\", \"foreign\", \"foreign\", \"foreign\", \"foreign\", \"form\", \"form\", \"form\", \"form\", \"form\", \"form\", \"frb\", \"frb\", \"fuel\", \"fuel\", \"fuel\", \"fuel\", \"fuel\", \"fuel\", \"future\", \"future\", \"future\", \"future\", \"future\", \"future\", \"gaiam\", \"gaiam\", \"gaming\", \"gaming\", \"gaming\", \"gaming\", \"gaming\", \"gaming\", \"gas\", \"gas\", \"gas\", \"gas\", \"gas\", \"gas\", \"genentech\", \"generation\", \"generation\", \"generation\", \"generation\", \"generation\", \"generation\", \"genetics\", \"gladstone\", \"gladstone\", \"gold\", \"gold\", \"gold\", \"gold\", \"gold\", \"gold\", \"golf\", \"golf\", \"golf\", \"golf\", \"grainger\", \"grumman\", \"grumman\", \"gst\", \"gypsum\", \"hasbro\", \"hasbro\", \"hawaiian\", \"hawaiian\", \"hdfs\", \"health\", \"health\", \"health\", \"health\", \"health\", \"health\", \"hmn\", \"holding\", \"holding\", \"holding\", \"holding\", \"holding\", \"holding\", \"hotel\", \"hotel\", \"hotel\", \"hotel\", \"hotel\", \"hotels\", \"hotels\", \"hotels\", \"hotels\", \"hotels\", \"hotels\", \"ihop\", \"ilec\", \"included\", \"included\", \"included\", \"included\", \"included\", \"included\", \"incorporated\", \"incorporated\", \"incorporated\", \"incorporated\", \"incorporated\", \"incorporated\", \"increase\", \"increase\", \"increase\", \"increase\", \"increase\", \"increase\", \"influenza\", \"influenza\", \"influenza\", \"influenza\", \"information\", \"information\", \"information\", \"information\", \"information\", \"information\", \"inhibitor\", \"inhibitor\", \"inplace\", \"inplace\", \"inplace\", \"institutions\", \"institutions\", \"institutions\", \"institutions\", \"institutions\", \"institutions\", \"insurance\", \"insurance\", \"insurance\", \"insurance\", \"insurance\", \"insurance\", \"intel\", \"interestbearing\", \"interestbearing\", \"interestbearing\", \"interestbearing\", \"interestbearing\", \"interestbearing\", \"interestearning\", \"interestearning\", \"interestearning\", \"interestearning\", \"interests\", \"interests\", \"interests\", \"interests\", \"interests\", \"interests\", \"inventory\", \"inventory\", \"inventory\", \"inventory\", \"inventory\", \"inventory\", \"investigational\", \"investment\", \"investment\", \"investment\", \"investment\", \"investment\", \"investment\", \"invisalign\", \"invisalign\", \"invisalign\", \"iron\", \"iron\", \"iron\", \"iron\", \"iron\", \"item\", \"item\", \"item\", \"item\", \"item\", \"item\", \"jetblue\", \"joint\", \"joint\", \"joint\", \"joint\", \"joint\", \"joint\", \"kilroy\", \"kilroy\", \"kinross\", \"kinross\", \"laboratories\", \"laboratories\", \"laboratories\", \"las\", \"las\", \"las\", \"las\", \"las\", \"las\", \"lear\", \"lear\", \"lease\", \"lease\", \"lease\", \"lease\", \"lease\", \"lease\", \"leases\", \"leases\", \"leases\", \"leases\", \"leases\", \"leases\", \"leasing\", \"leasing\", \"leasing\", \"leasing\", \"leasing\", \"leasing\", \"lending\", \"lending\", \"lending\", \"lending\", \"lending\", \"lge\", \"liabilities\", \"liabilities\", \"liabilities\", \"liabilities\", \"liabilities\", \"liabilities\", \"license\", \"license\", \"license\", \"license\", \"license\", \"license\", \"limited\", \"limited\", \"limited\", \"limited\", \"limited\", \"limited\", \"lke\", \"lkq\", \"loan\", \"loan\", \"loan\", \"loan\", \"loan\", \"loan\", \"longdistance\", \"longdistance\", \"loss\", \"loss\", \"loss\", \"loss\", \"loss\", \"loss\", \"losses\", \"losses\", \"losses\", \"losses\", \"losses\", \"losses\", \"macatawa\", \"macau\", \"macau\", \"macerich\", \"marketing\", \"marketing\", \"marketing\", \"marketing\", \"marketing\", \"marketing\", \"mbs\", \"medicaid\", \"medicaid\", \"medicaid\", \"medicaid\", \"medicaid\", \"medical\", \"medical\", \"medical\", \"medical\", \"medical\", \"medical\", \"memory\", \"memory\", \"memory\", \"merchandise\", \"merchandise\", \"merchandise\", \"merchandise\", \"merchandise\", \"merck\", \"merck\", \"mgm\", \"mgm\", \"mhllc\", \"mhllc\", \"microvision\", \"milestone\", \"milestone\", \"milestone\", \"milestone\", \"milestone\", \"mineral\", \"mineral\", \"mineral\", \"mineral\", \"mineral\", \"mineral\", \"mines\", \"mines\", \"mines\", \"mining\", \"mining\", \"mining\", \"mining\", \"mining\", \"miso\", \"mobile\", \"mobile\", \"mobile\", \"mobile\", \"mobile\", \"mobile\", \"montana\", \"montana\", \"montana\", \"montana\", \"montana\", \"mortgage\", \"mortgage\", \"mortgage\", \"mortgage\", \"mortgage\", \"mortgage\", \"mortgagebacked\", \"mortgagebacked\", \"mortgagebacked\", \"mortgagebacked\", \"mortgagebacked\", \"mortgagebacked\", \"motorcycle\", \"motorcycle\", \"motorcycle\", \"motorcycle\", \"motorcycle\", \"motorcycles\", \"motorcycles\", \"motorcycles\", \"motorcycles\", \"mpsc\", \"msrs\", \"msrs\", \"nara\", \"nareit\", \"nasdaq\", \"nasdaq\", \"nasdaq\", \"nasdaq\", \"nasdaq\", \"nasdaq\", \"natural\", \"natural\", \"natural\", \"natural\", \"natural\", \"natural\", \"nda\", \"network\", \"network\", \"network\", \"network\", \"network\", \"network\", \"new\", \"new\", \"new\", \"new\", \"new\", \"new\", \"nhc\", \"nlasco\", \"nnn\", \"nonaccrual\", \"nonaccrual\", \"nonaccrual\", \"noncovered\", \"noninterest\", \"noninterest\", \"noninterest\", \"noninterest\", \"noninterest\", \"noninterest\", \"nonperforming\", \"nonperforming\", \"nonperforming\", \"nonutility\", \"northrop\", \"northrop\", \"notes\", \"notes\", \"notes\", \"notes\", \"notes\", \"notes\", \"novavax\", \"novogen\", \"nspminnesota\", \"nspwisconsin\", \"nuclear\", \"nuclear\", \"nuclear\", \"nuclear\", \"nuclear\", \"number\", \"number\", \"number\", \"number\", \"number\", \"number\", \"nustar\", \"nustar\", \"nustar\", \"oge\", \"oil\", \"oil\", \"oil\", \"oil\", \"oil\", \"oil\", \"omnicell\", \"omx\", \"omx\", \"opuc\", \"ore\", \"ore\", \"oreo\", \"ova\", \"ovarian\", \"partnership\", \"partnership\", \"partnership\", \"partnership\", \"partnership\", \"partnership\", \"patent\", \"patent\", \"patent\", \"patent\", \"patent\", \"patent\", \"patents\", \"patents\", \"patents\", \"patents\", \"patents\", \"patents\", \"patient\", \"patient\", \"patient\", \"patient\", \"patient\", \"patient\", \"patients\", \"patients\", \"patients\", \"patients\", \"payors\", \"payors\", \"payors\", \"pension\", \"pension\", \"pension\", \"pension\", \"pension\", \"pension\", \"pepsico\", \"pepsico\", \"peramivir\", \"percent\", \"percent\", \"percent\", \"percent\", \"percent\", \"percent\", \"perini\", \"period\", \"period\", \"period\", \"period\", \"period\", \"period\", \"pge\", \"pharma\", \"pharma\", \"pharmaceutical\", \"pharmaceutical\", \"pharmaceutical\", \"pharmaceutical\", \"pharmaceutical\", \"pharmaceuticals\", \"pharmaceuticals\", \"pharmaceuticals\", \"pharmaceuticals\", \"phase\", \"phase\", \"phase\", \"phase\", \"phase\", \"phase\", \"physicians\", \"physicians\", \"physicians\", \"physicians\", \"pillarstone\", \"pipeline\", \"pipeline\", \"pipeline\", \"pipeline\", \"pipeline\", \"pipeline\", \"pipelines\", \"pipelines\", \"pipelines\", \"pipelines\", \"pipelines\", \"pixelworks\", \"plan\", \"plan\", \"plan\", \"plan\", \"plan\", \"plan\", \"plant\", \"plant\", \"plant\", \"plant\", \"plant\", \"plant\", \"plants\", \"plants\", \"plants\", \"plants\", \"plants\", \"plants\", \"platelet\", \"pmc\", \"pmc\", \"policyholders\", \"policyholders\", \"policyholders\", \"portfolio\", \"portfolio\", \"portfolio\", \"portfolio\", \"portfolio\", \"portfolio\", \"power\", \"power\", \"power\", \"power\", \"power\", \"power\", \"ppl\", \"ppls\", \"preclinical\", \"preferred\", \"preferred\", \"preferred\", \"preferred\", \"preferred\", \"preferred\", \"premiums\", \"premiums\", \"premiums\", \"premiums\", \"premiums\", \"premiums\", \"price\", \"price\", \"price\", \"price\", \"price\", \"price\", \"prices\", \"prices\", \"prices\", \"prices\", \"prices\", \"prices\", \"primus\", \"primus\", \"production\", \"production\", \"production\", \"production\", \"production\", \"production\", \"profit\", \"profit\", \"profit\", \"profit\", \"profit\", \"profit\", \"project\", \"project\", \"project\", \"project\", \"project\", \"project\", \"properties\", \"properties\", \"properties\", \"properties\", \"properties\", \"properties\", \"property\", \"property\", \"property\", \"property\", \"property\", \"property\", \"propertyliability\", \"prostate\", \"proved\", \"proved\", \"proved\", \"proved\", \"proved\", \"proved\", \"psco\", \"pscw\", \"pvr\", \"pvr\", \"pvr\", \"qad\", \"racing\", \"racing\", \"rate\", \"rate\", \"rate\", \"rate\", \"rate\", \"rate\", \"rates\", \"rates\", \"rates\", \"rates\", \"rates\", \"rates\", \"raw\", \"raw\", \"raw\", \"raw\", \"raw\", \"real\", \"real\", \"real\", \"real\", \"real\", \"real\", \"realty\", \"realty\", \"realty\", \"realty\", \"realty\", \"realty\", \"redevelopment\", \"redevelopment\", \"redevelopment\", \"redevelopment\", \"redevelopment\", \"reference\", \"reference\", \"reference\", \"reference\", \"reference\", \"reference\", \"regulatory\", \"regulatory\", \"regulatory\", \"regulatory\", \"regulatory\", \"regulatory\", \"reinsurance\", \"reinsurance\", \"reinsurance\", \"reinsurance\", \"reit\", \"reit\", \"reit\", \"reit\", \"reits\", \"reits\", \"reits\", \"rentable\", \"rentable\", \"rentable\", \"rentable\", \"rental\", \"rental\", \"rental\", \"rental\", \"rental\", \"rental\", \"rents\", \"rents\", \"rents\", \"rents\", \"rents\", \"rents\", \"reporting\", \"reporting\", \"reporting\", \"reporting\", \"reporting\", \"reporting\", \"research\", \"research\", \"research\", \"research\", \"research\", \"research\", \"reserve\", \"reserve\", \"reserve\", \"reserve\", \"reserve\", \"reserve\", \"residential\", \"residential\", \"residential\", \"residential\", \"residential\", \"restaurant\", \"restaurant\", \"restaurant\", \"restaurant\", \"result\", \"result\", \"result\", \"result\", \"result\", \"result\", \"results\", \"results\", \"results\", \"results\", \"results\", \"results\", \"revenue\", \"revenue\", \"revenue\", \"revenue\", \"revenue\", \"revenue\", \"revenues\", \"revenues\", \"revenues\", \"revenues\", \"revenues\", \"revenues\", \"rights\", \"rights\", \"rights\", \"rights\", \"rights\", \"rights\", \"risk\", \"risk\", \"risk\", \"risk\", \"risk\", \"risk\", \"riskbased\", \"riskbased\", \"riskbased\", \"riskbased\", \"riskweighted\", \"roaming\", \"roaming\", \"saia\", \"sale\", \"sale\", \"sale\", \"sale\", \"sale\", \"sale\", \"scb\", \"sce\", \"sces\", \"scheringplough\", \"scheringplough\", \"seagate\", \"securities\", \"securities\", \"securities\", \"securities\", \"securities\", \"securities\", \"segment\", \"segment\", \"segment\", \"segment\", \"segment\", \"segment\", \"selfstorage\", \"selfstorage\", \"semiconductor\", \"semiconductor\", \"series\", \"series\", \"series\", \"series\", \"series\", \"series\", \"service\", \"service\", \"service\", \"service\", \"service\", \"service\", \"services\", \"services\", \"services\", \"services\", \"services\", \"services\", \"servicing\", \"servicing\", \"servicing\", \"servicing\", \"servicing\", \"servicing\", \"share\", \"share\", \"share\", \"share\", \"share\", \"share\", \"significant\", \"significant\", \"significant\", \"significant\", \"significant\", \"significant\", \"smsa\", \"software\", \"software\", \"software\", \"software\", \"software\", \"software\", \"solitario\", \"solitario\", \"solitarios\", \"solitarios\", \"solution\", \"solution\", \"solution\", \"solution\", \"solution\", \"solution\", \"solutions\", \"solutions\", \"solutions\", \"solutions\", \"solutions\", \"solutions\", \"sovran\", \"spartan\", \"spartan\", \"sporting\", \"sporting\", \"square\", \"square\", \"square\", \"square\", \"square\", \"square\", \"states\", \"states\", \"states\", \"states\", \"states\", \"states\", \"stockholders\", \"stockholders\", \"stockholders\", \"stockholders\", \"stockholders\", \"stockholders\", \"store\", \"store\", \"store\", \"store\", \"store\", \"store\", \"stores\", \"stores\", \"stores\", \"stores\", \"stores\", \"students\", \"students\", \"students\", \"studies\", \"studies\", \"studies\", \"studies\", \"studies\", \"studies\", \"substandard\", \"substandard\", \"substandard\", \"substandard\", \"substandard\", \"supply\", \"supply\", \"supply\", \"supply\", \"supply\", \"supply\", \"support\", \"support\", \"support\", \"support\", \"support\", \"support\", \"supportcom\", \"surmodics\", \"synnex\", \"systems\", \"systems\", \"systems\", \"systems\", \"systems\", \"systems\", \"taser\", \"taubman\", \"taxequivalent\", \"tdr\", \"tdrs\", \"tds\", \"technologies\", \"technologies\", \"technologies\", \"technologies\", \"technologies\", \"technologies\", \"technology\", \"technology\", \"technology\", \"technology\", \"technology\", \"technology\", \"tempur\", \"tempurpedic\", \"tenant\", \"tenant\", \"tenant\", \"tenant\", \"tenant\", \"tenants\", \"tenants\", \"tenants\", \"tenants\", \"tenants\", \"therapeutic\", \"therapeutics\", \"therapeutics\", \"therapies\", \"therapy\", \"therapy\", \"therapy\", \"tier\", \"tier\", \"tier\", \"tier\", \"tier\", \"tier\", \"toremifene\", \"total\", \"total\", \"total\", \"total\", \"total\", \"total\", \"towing\", \"transmission\", \"transmission\", \"transmission\", \"transmission\", \"transmission\", \"transmission\", \"travelzoo\", \"travelzoo\", \"treatment\", \"treatment\", \"treatment\", \"treatment\", \"treatment\", \"treatment\", \"trial\", \"trial\", \"trial\", \"trial\", \"trial\", \"trial\", \"trials\", \"trials\", \"trials\", \"trials\", \"triotech\", \"tucows\", \"ual\", \"ual\", \"ueps\", \"umpqua\", \"unconsolidated\", \"unconsolidated\", \"unconsolidated\", \"unconsolidated\", \"unconsolidated\", \"unconsolidated\", \"undercapitalized\", \"undercapitalized\", \"underwriting\", \"underwriting\", \"underwriting\", \"underwriting\", \"underwriting\", \"underwriting\", \"unsound\", \"use\", \"use\", \"use\", \"use\", \"use\", \"use\", \"uti\", \"utility\", \"utility\", \"utility\", \"utility\", \"utility\", \"utility\", \"vaccine\", \"vaccines\", \"vail\", \"vascular\", \"veeco\", \"veeco\", \"vegas\", \"vegas\", \"vegas\", \"vegas\", \"vegas\", \"vehicle\", \"vehicle\", \"vehicle\", \"vehicle\", \"vehicle\", \"vehicle\", \"vehicles\", \"vehicles\", \"vehicles\", \"vehicles\", \"vehicles\", \"vehicles\", \"velarden\", \"ver\", \"viad\", \"virginia\", \"virginia\", \"virginia\", \"virginia\", \"virginia\", \"virginia\", \"visteon\", \"visteon\", \"wafer\", \"wafers\", \"wagering\", \"wfn\", \"whitestone\", \"whiting\", \"wilhelmina\", \"willis\", \"willis\", \"wireless\", \"wireless\", \"wireless\", \"wireless\", \"wireless\", \"wisconsin\", \"wisconsin\", \"wisconsin\", \"wisconsin\", \"wisconsin\", \"wisconsin\", \"wynn\", \"wynn\", \"xcel\", \"zar\", \"zions\"]}, \"R\": 30, \"lambda.step\": 0.01, \"plot.opts\": {\"xlab\": \"PC1\", \"ylab\": \"PC2\"}, \"topic.order\": [3, 1, 2, 4, 5, 6]};\n",
       "\n",
       "function LDAvis_load_lib(url, callback){\n",
       "  var s = document.createElement('script');\n",
       "  s.src = url;\n",
       "  s.async = true;\n",
       "  s.onreadystatechange = s.onload = callback;\n",
       "  s.onerror = function(){console.warn(\"failed to load library \" + url);};\n",
       "  document.getElementsByTagName(\"head\")[0].appendChild(s);\n",
       "}\n",
       "\n",
       "if(typeof(LDAvis) !== \"undefined\"){\n",
       "   // already loaded: just create the visualization\n",
       "   !function(LDAvis){\n",
       "       new LDAvis(\"#\" + \"ldavis_el102551401149952446081972924712\", ldavis_el102551401149952446081972924712_data);\n",
       "   }(LDAvis);\n",
       "}else if(typeof define === \"function\" && define.amd){\n",
       "   // require.js is available: use it to load d3/LDAvis\n",
       "   require.config({paths: {d3: \"https://cdnjs.cloudflare.com/ajax/libs/d3/3.5.5/d3.min\"}});\n",
       "   require([\"d3\"], function(d3){\n",
       "      window.d3 = d3;\n",
       "      LDAvis_load_lib(\"https://cdn.rawgit.com/bmabey/pyLDAvis/files/ldavis.v1.0.0.js\", function(){\n",
       "        new LDAvis(\"#\" + \"ldavis_el102551401149952446081972924712\", ldavis_el102551401149952446081972924712_data);\n",
       "      });\n",
       "    });\n",
       "}else{\n",
       "    // require.js not available: dynamically load d3 & LDAvis\n",
       "    LDAvis_load_lib(\"https://cdnjs.cloudflare.com/ajax/libs/d3/3.5.5/d3.min.js\", function(){\n",
       "         LDAvis_load_lib(\"https://cdn.rawgit.com/bmabey/pyLDAvis/files/ldavis.v1.0.0.js\", function(){\n",
       "                 new LDAvis(\"#\" + \"ldavis_el102551401149952446081972924712\", ldavis_el102551401149952446081972924712_data);\n",
       "            })\n",
       "         });\n",
       "}\n",
       "</script>"
      ],
      "text/plain": [
       "PreparedData(topic_coordinates=               x          y  topics  cluster       Freq\n",
       "topic                                                  \n",
       "2       1.465019 -47.625065       1        1  24.334771\n",
       "0      54.854797 -36.476795       2        1  22.891554\n",
       "1      32.212929 -61.444572       3        1  21.576603\n",
       "3       5.111096 -14.110332       4        1  11.606755\n",
       "4      26.350170 -33.374702       5        1  10.960682\n",
       "5      38.109818  -7.222781       6        1   8.629635, topic_info=                Term           Freq          Total Category  logprob  loglift\n",
       "135483          loan  583316.000000  583316.000000  Default  30.0000  30.0000\n",
       "97721            gas  143907.000000  143907.000000  Default  29.0000  29.0000\n",
       "77349         energy  124560.000000  124560.000000  Default  28.0000  28.0000\n",
       "188928    properties  130518.000000  130518.000000  Default  27.0000  27.0000\n",
       "22148           bank  259178.000000  259178.000000  Default  26.0000  26.0000\n",
       "...              ...            ...            ...      ...      ...      ...\n",
       "60395          dated   24664.832096  177551.543596   Topic6  -5.9804   0.4761\n",
       "197289     reference   25477.968630  249244.467968   Topic6  -5.9480   0.1693\n",
       "204526       results   25955.773931  342875.273810   Topic6  -5.9294  -0.1310\n",
       "114388  incorporated   25256.809497  259635.443346   Topic6  -5.9567   0.1198\n",
       "96591         future   25512.625341  338743.017763   Topic6  -5.9466  -0.1361\n",
       "\n",
       "[617 rows x 6 columns], token_table=        Topic      Freq     Term\n",
       "term                            \n",
       "295         1  0.109792   abbott\n",
       "295         5  0.890147   abbott\n",
       "300         1  0.999785  abbotts\n",
       "1040        2  0.996632      abx\n",
       "1040        3  0.003138      abx\n",
       "...       ...       ...      ...\n",
       "262039      1  0.999903     wynn\n",
       "262039      2  0.000058     wynn\n",
       "262162      4  0.999915     xcel\n",
       "264659      2  0.999809      zar\n",
       "265004      3  0.999850    zions\n",
       "\n",
       "[1756 rows x 3 columns], R=30, lambda_step=0.01, plot_opts={'xlab': 'PC1', 'ylab': 'PC2'}, topic_order=[3, 1, 2, 4, 5, 6])"
      ]
     },
     "execution_count": 13,
     "metadata": {},
     "output_type": "execute_result"
    }
   ],
   "source": [
    "import pyLDAvis.sklearn\n",
    "pyLDAvis.enable_notebook()\n",
    "#dash = pyLDAvis.sklearn.prepare(lda, data_vectorized, vectorizer, mds='tsne')\n",
    "dash = pyLDAvis.sklearn.prepare(lda, final_corpus, vect, mds='tsne')\n",
    "#lda is good, data_vectorized\n",
    "dash"
   ]
  },
  {
   "cell_type": "code",
   "execution_count": null,
   "metadata": {},
   "outputs": [],
   "source": []
  }
 ],
 "metadata": {
  "kernelspec": {
   "display_name": "Python 3",
   "language": "python",
   "name": "python3"
  },
  "language_info": {
   "codemirror_mode": {
    "name": "ipython",
    "version": 3
   },
   "file_extension": ".py",
   "mimetype": "text/x-python",
   "name": "python",
   "nbconvert_exporter": "python",
   "pygments_lexer": "ipython3",
   "version": "3.8.6"
  }
 },
 "nbformat": 4,
 "nbformat_minor": 4
}
